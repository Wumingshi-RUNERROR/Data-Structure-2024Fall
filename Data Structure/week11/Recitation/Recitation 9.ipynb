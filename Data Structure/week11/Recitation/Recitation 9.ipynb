{
 "cells": [
  {
   "cell_type": "markdown",
   "metadata": {
    "id": "NehOU40TZkVa"
   },
   "source": [
    "**Please run the above line to refresh the date before your submission.**\n"
   ]
  },
  {
   "cell_type": "markdown",
   "metadata": {
    "id": "FzN4xzEMY9zn"
   },
   "source": [
    "## Data Structures - Recitation 9\n",
    "\n",
    "### Heap and Priority Queue\n",
    "\n",
    "Submit your worksheet according to the schedule for your recitation as outlined on Albert:\n",
    "\n",
    "- **Wednesday Recitation:** Due by Friday, 11:59 PM.\n",
    "- **Thursday Recitation:** Due by Saturday, 11:59 PM.\n",
    "- **Friday Recitation:** Due by Sunday, 11:59 PM.\n",
    "\n",
    "\n",
    "**Important Notes**\n",
    "- Each task must show a reasonable attempt to a solution. \n",
    "- Only solutions submitted in *.ipynb* format are accepted.\n",
    "- Invalid and late submissions are not considered for grading. \n",
    "\n",
    "Name:\n",
    "\n",
    "NetID:"
   ]
  },
  {
   "cell_type": "markdown",
   "metadata": {},
   "source": [
    "# Learning Outcomes\n",
    "\n",
    "In this recitation, you will learn about the following topics:\n",
    "1. **???:** ???\n",
    "2. **???:** ???\n",
    "3. **???:** ???\n",
    "4. **???:** ???"
   ]
  },
  {
   "cell_type": "markdown",
   "metadata": {
    "id": "fjDgH4ya4dCl"
   },
   "source": [
    "# Task 1 - Heap Priority Queue\n",
    "\n",
    "Modify the HeapPriorityQueue class so that it becomes a max-heap."
   ]
  },
  {
   "cell_type": "code",
   "execution_count": 2,
   "metadata": {
    "id": "TgqlbDam4cVL"
   },
   "outputs": [
    {
     "name": "stdout",
     "output_type": "stream",
     "text": [
      "Removing from heap: 19\n",
      "Removing from heap: 17\n",
      "Removing from heap: 16\n",
      "Removing from heap: 15\n",
      "Removing from heap: 12\n",
      "Removing from heap: 12\n",
      "Removing from heap: 10\n",
      "Removing from heap: 10\n",
      "Removing from heap: 8\n",
      "Removing from heap: 7\n"
     ]
    }
   ],
   "source": [
    "import random\n",
    "\n",
    "\n",
    "class HeapPriorityQueue:\n",
    "    \"\"\"A min-oriented priority queue implemented with a binary heap.\"\"\"\n",
    "\n",
    "    class _Item:\n",
    "        \"\"\"Lightweight composite to store priority queue items.\"\"\"\n",
    "        __slots__ = '_key', '_value'\n",
    "\n",
    "        def __init__(self, k, v):\n",
    "            self._key = k\n",
    "            self._value = v\n",
    "\n",
    "        def __lt__(self, other):\n",
    "            return self._key < other._key\n",
    "\n",
    "        def __repr__(self):\n",
    "            return '({0},{1})'.format(self._key, self._value)\n",
    "\n",
    "    #------------------------------ nonpublic behaviors ------------------------------\n",
    "\n",
    "    def _parent(self, j):\n",
    "        return (j - 1) // 2\n",
    "\n",
    "    def _left(self, j):\n",
    "        return 2 * j + 1\n",
    "\n",
    "    def _right(self, j):\n",
    "        return 2 * j + 2\n",
    "\n",
    "    def _has_left(self, j):\n",
    "        return self._left(j) < len(self._data)\n",
    "\n",
    "    def _has_right(self, j):\n",
    "        return self._right(j) < len(self._data)\n",
    "\n",
    "    def _swap(self, i, j):\n",
    "        \"\"\"Swap the elements at indices i and j of the array.\"\"\"\n",
    "        self._data[i], self._data[j] = self._data[j], self._data[i]\n",
    "\n",
    "    def _upheap(self, j):\n",
    "        parent = self._parent(j)\n",
    "        if j > 0 and self._data[j] > self._data[parent]:\n",
    "            self._swap(j, parent)\n",
    "            self._upheap(parent)\n",
    "\n",
    "    def _downheap(self, j):\n",
    "        if self._has_left(j):\n",
    "            left = self._left(j)\n",
    "            small_child = left\n",
    "            if self._has_right(j):\n",
    "                right = self._right(j)\n",
    "                if self._data[right] > self._data[left]:\n",
    "                    small_child = right\n",
    "            if self._data[small_child] > self._data[j]:\n",
    "                self._swap(j, small_child)\n",
    "                self._downheap(small_child)\n",
    "\n",
    "    def _heapify(self):\n",
    "        start = self._parent(len(self) - 1)\n",
    "        for j in range(start, -1, -1):\n",
    "            self._downheap(j)\n",
    "\n",
    "    #------------------------------ public behaviors ------------------------------\n",
    "\n",
    "    def __init__(self):\n",
    "        \"\"\"Create a new empty Priority Queue.\"\"\"\n",
    "        self._data = []\n",
    "\n",
    "    def __init__(self, contents=None):\n",
    "        \"\"\"Create a new empty Priority Queue.\"\"\"\n",
    "        if contents is None:\n",
    "            contents = []\n",
    "\n",
    "        self._data = [self._Item(k, v) for k, v in contents]\n",
    "        if len(self._data) > 1:\n",
    "            self._heapify()\n",
    "\n",
    "    def __len__(self):\n",
    "        \"\"\"Return the number of items in the priority queue.\"\"\"\n",
    "        return len(self._data)\n",
    "\n",
    "    def is_empty(self):\n",
    "        return len(self) == 0\n",
    "\n",
    "    def add(self, key, value):\n",
    "        \"\"\"Add a key-value pair to the priority queue.\"\"\"\n",
    "        self._data.append(self._Item(key, value))\n",
    "        self._upheap(len(self._data) - 1)\n",
    "\n",
    "    def min(self):\n",
    "        \"\"\"Return but do not remove (k,v) tuple with the minimum key.\n",
    "        Raise Empty exception if empty.\n",
    "        \"\"\"\n",
    "        if self.is_empty():\n",
    "            raise Exception('Priority queue is empty.')\n",
    "        item = self._data[0]\n",
    "        return item._key, item._value\n",
    "\n",
    "    def remove_min(self):\n",
    "        \"\"\"Remove and return (k,v) tuple with the minimum key.\n",
    "        Raise Empty exception if empty.\n",
    "        \"\"\"\n",
    "        if self.is_empty():\n",
    "            raise Exception('Priority queue is empty.')\n",
    "        self._swap(0, len(self._data) - 1)\n",
    "        item = self._data.pop()\n",
    "        self._downheap(0)\n",
    "        return item._key, item._value\n",
    "\n",
    "\n",
    "def main():\n",
    "    max_heap = HeapPriorityQueue()\n",
    "    [max_heap.add(random.randint(0, 20), \"happy_final!\") for _ in range(10)]\n",
    "\n",
    "    for i in range(10):\n",
    "        # Your output should be in decreasing order\n",
    "        print(\"Removing from heap:\", max_heap.remove_min()[0])\n",
    "\n",
    "\n",
    "if __name__ == \"__main__\":\n",
    "    main()"
   ]
  },
  {
   "cell_type": "markdown",
   "metadata": {},
   "source": [
    "# Task 2 - Testing Heapify"
   ]
  },
  {
   "cell_type": "code",
   "execution_count": 3,
   "metadata": {},
   "outputs": [
    {
     "name": "stdout",
     "output_type": "stream",
     "text": [
      "[(16,Beijing), (9,Hangkong), (15,Shenzhen), (7,Guangzhou), (8,Chengdu), (11,Chongqing), (2,Suzhou)]\n"
     ]
    }
   ],
   "source": [
    "def main():\n",
    "    contents = [(16, \"Beijing\"), (9, \"Hangkong\"), (15, \"Shenzhen\"), (7, \"Guangzhou\"),\n",
    "                (8, \"Chengdu\"), (11, \"Chongqing\"), (2, \"Suzhou\")]\n",
    "    max_heap = HeapPriorityQueue(contents)\n",
    "    print(max_heap._data)\n",
    "\n",
    "\n",
    "if __name__ == \"__main__\":\n",
    "    main()"
   ]
  }
 ],
 "metadata": {
  "colab": {
   "provenance": []
  },
  "kernelspec": {
   "display_name": "base",
   "language": "python",
   "name": "python3"
  },
  "language_info": {
   "codemirror_mode": {
    "name": "ipython",
    "version": 3
   },
   "file_extension": ".py",
   "mimetype": "text/x-python",
   "name": "python",
   "nbconvert_exporter": "python",
   "pygments_lexer": "ipython3",
   "version": "3.11.5"
  }
 },
 "nbformat": 4,
 "nbformat_minor": 0
}
