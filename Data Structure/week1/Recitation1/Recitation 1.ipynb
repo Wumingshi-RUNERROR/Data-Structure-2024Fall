{
 "cells": [
  {
   "cell_type": "code",
   "execution_count": 8,
   "metadata": {
    "colab": {
     "base_uri": "https://localhost:8080/"
    },
    "id": "3cYa3TSSDjV7",
    "outputId": "a9f26205-86f5-442f-9f5e-a0b32ba7f3b3"
   },
   "outputs": [
    {
     "name": "stdout",
     "output_type": "stream",
     "text": [
      "^C\n"
     ]
    },
    {
     "name": "stdout",
     "output_type": "stream",
     "text": [
      "��ǰ����: 2024/09/06 ���� \n",
      "����������: (������) \n"
     ]
    }
   ],
   "source": [
    "!date"
   ]
  },
  {
   "cell_type": "markdown",
   "metadata": {
    "id": "Y_cW5iU-DkGU"
   },
   "source": [
    "**Please run the above line to refresh the date before your submission.**"
   ]
  },
  {
   "cell_type": "markdown",
   "metadata": {
    "id": "7OvqT898Drx9"
   },
   "source": [
    "## Data Structures - Recitation 1\n",
    "\n",
    "### Object-Oriented Programming Review\n",
    "\n",
    "Submit your worksheet according to the schedule for your recitation as outlined on Albert:\n",
    "\n",
    "- **Wednesday Recitation:** Due by Friday, 11:59 PM.\n",
    "- **Thursday Recitation:** Due by Saturday, 11:59 PM.\n",
    "- **Friday Recitation:** Due by Sunday, 11:59 PM.\n",
    "\n",
    "\n",
    "**Important Notes**\n",
    "- Each task must show a reasonable attempt to a solution. \n",
    "- Only solutions submitted in *.ipynb* format are accepted.\n",
    "- Invalid and late submissions are not considered for grading. \n",
    "\n",
    "Name:Ziyue Xu\n",
    "\n",
    "NetID:zx1790"
   ]
  },
  {
   "cell_type": "markdown",
   "metadata": {},
   "source": [
    "# Learning Outcomes\n",
    "\n",
    "In this recitation, you will learn about the following topics:\n",
    "1. **Python:** Familiarize yourself with the Python syntax and key concepts.\n",
    "2. **Class Structure:** Understand the components of classes.\n",
    "3. **Polymorphism:** Grasp how objects and classes inherit properties.\n",
    "4. **Magic Functions:** Learn about Python’s built-in underscore functions."
   ]
  },
  {
   "cell_type": "markdown",
   "metadata": {},
   "source": [
    "# Task 1 - Creating a Class\n",
    "\n",
    "You are to complete the *Student* class below. \n",
    "1. Complete the *\\_\\_init\\_\\_* method to initialize a new instance of a Student with the properties *name*, *age*, and *gpa*. \n",
    "    - Start by setting up public attributes for *name* (string) and *age* (integer). \n",
    "    - Manage the *gpa* (float) as a private attribute, indicated by a single underscore prefix. \n",
    "2. Implement the *get_gpa* method to retrieve a student's private GPA, and a *set_gpa* method to update the *gpa* with a new value."
   ]
  },
  {
   "cell_type": "code",
   "execution_count": 25,
   "metadata": {
    "id": "J7WwvJmWlNfC"
   },
   "outputs": [
    {
     "name": "stdout",
     "output_type": "stream",
     "text": [
      "All tests passed successfully!\n"
     ]
    }
   ],
   "source": [
    "class Student:\n",
    "    def __init__(self, name, age, gpa):\n",
    "        \"\"\"\n",
    "        The initializer for the Student class.\n",
    "        \n",
    "        The property name and age are public attributes while gpa is a private attribute.\n",
    "        \n",
    "        :param str name: The name of the student.\n",
    "        :param int age: The age of the student.\n",
    "        :param float gpa: The gpa of the student.\n",
    "        \"\"\"\n",
    "\n",
    "        # Please write your code here.\n",
    "        self.name=name\n",
    "        self.age=age\n",
    "        self._gpa=gpa\n",
    "        pass\n",
    "\n",
    "    def get_gpa(self):\n",
    "        \"\"\"\n",
    "        This function returns the gpa of the student.\n",
    "        \n",
    "        :return: The gpa of the student.\n",
    "        \"\"\"\n",
    "\n",
    "        # Please write your code here.\n",
    "        return self._gpa\n",
    "\n",
    "    def set_gpa(self, gpa):\n",
    "        \"\"\"\n",
    "        This function sets the gpa of the student.\n",
    "        \n",
    "        :param float gpa: The new gpa of the student.\n",
    "        :return: None, nothing to return.\n",
    "        \"\"\"\n",
    "\n",
    "        # Please write your code here.\n",
    "        self._gpa=gpa\n",
    "\n",
    "\n",
    "def main():\n",
    "    bob = Student(\"Bob\", 15, 3.0)\n",
    "    assert bob.get_gpa() == 3.0,  f\"Bob's GPA should be 3.0 but you returned {bob.get_gpa()}.\"\n",
    "\n",
    "    bob.set_gpa(4.0)\n",
    "    assert bob.get_gpa() == 4.0, f\"Bob's GPA should be 4.0 but you returned {bob.get_gpa()}.\"\n",
    "\n",
    "    print(\"All tests passed successfully!\")\n",
    "\n",
    "\n",
    "if __name__ == '__main__':\n",
    "    main()"
   ]
  },
  {
   "cell_type": "markdown",
   "metadata": {
    "id": "VW4yPVlTqZL4"
   },
   "source": [
    "## Task 1 - Question\n",
    "\n",
    "What does the keyword self do in Python?\n",
    "\n",
    "**Answer:** It is used to represent the object itself that you refer to."
   ]
  },
  {
   "cell_type": "markdown",
   "metadata": {
    "id": "sD2qwN7pqmPz"
   },
   "source": [
    "# Task 2 - Magic Functions\n",
    "\n",
    "Complete the *Pizza* class by adding special methods that override Python’s default behaviors. \n",
    "Start by defining the initializer *\\_\\_init\\_\\_* that initializes the Pizza instance. Next, implement the *\\_\\_add\\_\\_* method to enable adding two *Pizza* objects together, which should return a new *Pizza* object with the combined price of the two pizzas. Also, add the *\\_\\_iadd\\_\\_* method to support in-place addition using the += operator, which modifies the existing *Pizza* object's price by adding the price of another pizza directly to it. Finally, override the *\\_\\_str\\_\\_* method to provide a custom string representation of the *Pizza* class that returns a message displaying the price of the pizza. This method will allow you to print a *Pizza* object directly to get a readable output of its price."
   ]
  },
  {
   "cell_type": "code",
   "execution_count": 26,
   "metadata": {
    "id": "qu2SvigJ1W1r"
   },
   "outputs": [
    {
     "name": "stdout",
     "output_type": "stream",
     "text": [
      "Pizza3: 11\n",
      "Pizza1: 11\n",
      "All tests passed successfully!\n"
     ]
    }
   ],
   "source": [
    "class Pizza:\n",
    "    def __init__(self, price):\n",
    "        \"\"\"\n",
    "        The initializer for the Pizza class.\n",
    "        \n",
    "        :param int price: The price of the pizza.\n",
    "        \"\"\"\n",
    "\n",
    "        # Please write your code here.\n",
    "        self.price=price\n",
    "\n",
    "    def __add__(self, other):\n",
    "        \"\"\"\n",
    "        This function adds the price of two pizzas.\n",
    "        \n",
    "        :param Pizza other: Another pizza object.\n",
    "        :return: A new pizza object with the sum of the prices.\n",
    "        \"\"\"\n",
    "\n",
    "        # Please write your code here.\n",
    "        new_Pizza=Pizza(self.price+other.price)\n",
    "        return new_Pizza\n",
    "    \n",
    "    def __iadd__(self, other):\n",
    "        \"\"\"\n",
    "        This function adds the price of two pizzas.\n",
    "        \n",
    "        :param Pizza other: Another pizza object.\n",
    "        :return: The current pizza object with the sum of the prices.\n",
    "        \"\"\"\n",
    "\n",
    "        # Please write your code here.\n",
    "        self.price+=other.price\n",
    "        return self\n",
    "\n",
    "\n",
    "    def __str__(self):\n",
    "        \"\"\"\n",
    "        This function returns the string representation of the pizza.\n",
    "        \n",
    "        :return: The string representation of the pizza.\n",
    "        \"\"\"\n",
    "\n",
    "        # Please write your code here.\n",
    "        return str(self.price)\n",
    "\n",
    "\n",
    "def main():\n",
    "    pizza1 = Pizza(5)\n",
    "    pizza2 = Pizza(6)\n",
    "\n",
    "    pizza3 = pizza1 + pizza2\n",
    "    print(\"Pizza3:\", pizza3)\n",
    "    assert type(pizza3) == Pizza, f\"The result should be a Pizza object but you returned {type(pizza3)}.\"\n",
    "    assert pizza3.price == 11, f\"The price of p3 should be 11 but got you returned {pizza3.price}.\"\n",
    "\n",
    "    pizza1 += pizza2\n",
    "    print(\"Pizza1:\", pizza1)\n",
    "    assert type(pizza1) == Pizza, f\"The result should be a Pizza object but you returned {type(pizza1)}.\"\n",
    "    assert pizza1.price == 11, f\"The price of pizza1 should be 11 but you returned {pizza1.price}.\"\n",
    "\n",
    "    print(\"All tests passed successfully!\")\n",
    "\n",
    "\n",
    "if __name__ == '__main__':\n",
    "    main()"
   ]
  },
  {
   "cell_type": "markdown",
   "metadata": {
    "id": "TdfxXxq5qzK3"
   },
   "source": [
    "## Task 2 - Questions\n",
    "\n",
    "1. What does the code above print? Don't run the program, try to predict the output first.\n",
    "\n",
    "**Answer:**\n",
    "Pizza3: 11\n",
    "Pizza1: 11\n",
    "\n",
    "2. Complete the following table, suppose the variable name is X.\n",
    "\n",
    "| Row | Magic Function                       | Representation   |\n",
    "|-----|--------------------------------------|------------------|\n",
    "|  1  | `X.__getitem__(self, index)`         | `X[index]`       |\n",
    "|  2  | `X.__setitem__(self, index, value)`  |X[index]=value|\n",
    "|  3  | `X.__delitem__(self, index)`         |del X[index]|\n",
    "|  4  | `X.__add__(self, other)`             |X+other|\n",
    "|  5  | `X.__iadd__(self, other)`            |X+=other|\n",
    "|  6  | `X.__eq__(self, other)`              |X==other|\n",
    "|  7  | `X.__len__(self)`                    |len(X)|\n",
    "|  8  | `X.__str__(self)`                    |str(X)|\n",
    "|  9  | `X.__repr__(self)`                   |repr(x)|\n",
    "|  10 | `X.__contains__(self, value)`        |value in X|\n",
    "|  11 | `X.__iter__(self)`                   |iter(X)|"
   ]
  },
  {
   "cell_type": "markdown",
   "metadata": {
    "id": "kN40sS40mHWj"
   },
   "source": [
    "# Task 3 - Inheritance 1 - Tree and Palm\n",
    "\n",
    "Implement the *Tree* and *Palm* class where *Palm* inherits features from *Tree*."
   ]
  },
  {
   "cell_type": "code",
   "execution_count": 27,
   "metadata": {
    "id": "j_DnX7mdmAz-"
   },
   "outputs": [
    {
     "ename": "AttributeError",
     "evalue": "'Palm' object has no attribute '_name'",
     "output_type": "error",
     "traceback": [
      "\u001b[1;31m---------------------------------------------------------------------------\u001b[0m",
      "\u001b[1;31mAttributeError\u001b[0m                            Traceback (most recent call last)",
      "Cell \u001b[1;32mIn[27], line 66\u001b[0m\n\u001b[0;32m     62\u001b[0m     \u001b[38;5;28mprint\u001b[39m(tree1\u001b[38;5;241m.\u001b[39mget_color())  \u001b[38;5;66;03m# What does this print (4)?\u001b[39;00m\n\u001b[0;32m     65\u001b[0m \u001b[38;5;28;01mif\u001b[39;00m \u001b[38;5;18m__name__\u001b[39m \u001b[38;5;241m==\u001b[39m \u001b[38;5;124m'\u001b[39m\u001b[38;5;124m__main__\u001b[39m\u001b[38;5;124m'\u001b[39m:\n\u001b[1;32m---> 66\u001b[0m     main()\n",
      "Cell \u001b[1;32mIn[27], line 57\u001b[0m, in \u001b[0;36mmain\u001b[1;34m()\u001b[0m\n\u001b[0;32m     55\u001b[0m \u001b[38;5;28;01mdef\u001b[39;00m \u001b[38;5;21mmain\u001b[39m():\n\u001b[0;32m     56\u001b[0m     palm1 \u001b[38;5;241m=\u001b[39m Palm(\u001b[38;5;124m\"\u001b[39m\u001b[38;5;124mLucky\u001b[39m\u001b[38;5;124m\"\u001b[39m, \u001b[38;5;241m30\u001b[39m, \u001b[38;5;124m\"\u001b[39m\u001b[38;5;124mGreen\u001b[39m\u001b[38;5;124m\"\u001b[39m)\n\u001b[1;32m---> 57\u001b[0m     \u001b[38;5;28mprint\u001b[39m(palm1\u001b[38;5;241m.\u001b[39mget_name())  \u001b[38;5;66;03m# What does this print (1)?\u001b[39;00m\n\u001b[0;32m     58\u001b[0m     \u001b[38;5;28mprint\u001b[39m(palm1\u001b[38;5;241m.\u001b[39mget_color())  \u001b[38;5;66;03m# What does this print (2)?\u001b[39;00m\n\u001b[0;32m     60\u001b[0m     tree1 \u001b[38;5;241m=\u001b[39m Tree(\u001b[38;5;124m\"\u001b[39m\u001b[38;5;124mFunny\u001b[39m\u001b[38;5;124m\"\u001b[39m, \u001b[38;5;241m20\u001b[39m)\n",
      "Cell \u001b[1;32mIn[27], line 24\u001b[0m, in \u001b[0;36mTree.get_name\u001b[1;34m(self)\u001b[0m\n\u001b[0;32m     17\u001b[0m \u001b[38;5;28;01mdef\u001b[39;00m \u001b[38;5;21mget_name\u001b[39m(\u001b[38;5;28mself\u001b[39m):\n\u001b[0;32m     18\u001b[0m \u001b[38;5;250m    \u001b[39m\u001b[38;5;124;03m\"\"\"\u001b[39;00m\n\u001b[0;32m     19\u001b[0m \u001b[38;5;124;03m    This function returns the name of the tree.\u001b[39;00m\n\u001b[0;32m     20\u001b[0m \u001b[38;5;124;03m    \u001b[39;00m\n\u001b[0;32m     21\u001b[0m \u001b[38;5;124;03m    :return: The name of the tree.\u001b[39;00m\n\u001b[0;32m     22\u001b[0m \u001b[38;5;124;03m    \"\"\"\u001b[39;00m\n\u001b[1;32m---> 24\u001b[0m     \u001b[38;5;28;01mreturn\u001b[39;00m \u001b[38;5;28mself\u001b[39m\u001b[38;5;241m.\u001b[39m_name\n",
      "\u001b[1;31mAttributeError\u001b[0m: 'Palm' object has no attribute '_name'"
     ]
    }
   ],
   "source": [
    "class Tree:\n",
    "    \"\"\"\n",
    "    The Tree class represents a tree with a name and age.\n",
    "    \"\"\"\n",
    "\n",
    "    def __init__(self, name, age):\n",
    "        \"\"\"\n",
    "        The initializer for the Tree class.\n",
    "        \n",
    "        :param str name: The name of the tree.\n",
    "        :param int age: The age of the tree.\n",
    "        \"\"\"\n",
    "\n",
    "        self._name = name\n",
    "        self._age = age\n",
    "\n",
    "    def get_name(self):\n",
    "        \"\"\"\n",
    "        This function returns the name of the tree.\n",
    "        \n",
    "        :return: The name of the tree.\n",
    "        \"\"\"\n",
    "\n",
    "        return self._name\n",
    "\n",
    "\n",
    "class Palm(Tree):\n",
    "    \"\"\"\n",
    "    The Palm class represents a palm tree with a name, age, and color.\n",
    "    Palm(Tree) indicates that Palm inherits from the Tree class.\n",
    "    \"\"\"\n",
    "\n",
    "    def __init__(self, name, age, color):\n",
    "        \"\"\"\n",
    "        The initializer for the Palm class.\n",
    "        \n",
    "        :param str name: The name of the palm.\n",
    "        :param int age: The age of the palm.\n",
    "        :param str color: The color of the palm.\n",
    "        \"\"\"\n",
    "\n",
    "        # Please initialize the parent class\n",
    "        self._color = color\n",
    "\n",
    "    def get_color(self):\n",
    "        \"\"\"\n",
    "        This function returns the color of the palm.\n",
    "        \n",
    "        :return: The color of the palm.\n",
    "        \"\"\"\n",
    "\n",
    "        return self._color\n",
    "\n",
    "\n",
    "def main():\n",
    "    palm1 = Palm(\"Lucky\", 30, \"Green\")\n",
    "    print(palm1.get_name())  # What does this print (1)?\n",
    "    print(palm1.get_color())  # What does this print (2)?\n",
    "\n",
    "    tree1 = Tree(\"Funny\", 20)\n",
    "    print(tree1.get_name())  # What does this print (3)?\n",
    "    print(tree1.get_color())  # What does this print (4)?\n",
    "\n",
    "\n",
    "if __name__ == '__main__':\n",
    "    main()"
   ]
  },
  {
   "cell_type": "markdown",
   "metadata": {
    "id": "CngWbGqis8V2"
   },
   "source": [
    "## Task 3 - Question\n",
    "\n",
    "What does the code above print? Don't run the program, try to predict the output first."
   ]
  },
  {
   "cell_type": "markdown",
   "metadata": {
    "id": "EsYZpojwtBQ8"
   },
   "source": [
    "1.   What is the output for print (1)? **Answer:**AttributeError\n",
    "2.   What is the output for print (2)? **Answer:**Green\n",
    "3.   What is the output for print (3)? **Answer:**Funny\n",
    "4.   What is the output for print (4)? **Answer:**AttributeError\n",
    "\n",
    "\n"
   ]
  },
  {
   "cell_type": "markdown",
   "metadata": {
    "id": "WouD0exPmtDq"
   },
   "source": [
    "# Task 4 - Inheritance 2 - Special Shapes\n",
    "\n",
    "Utilizing the below UML diagram, develop a class structure that includes a base class Shape, and two subclasses, Circle and Rectangle. Ensure that the subclasses inherit from the Shape base class."
   ]
  },
  {
   "cell_type": "code",
   "execution_count": 28,
   "metadata": {},
   "outputs": [],
   "source": [
    "#                        +----------------------+                               \n",
    "#                        |      <<Class>>       |                               \n",
    "#                        |        Shape         |                               \n",
    "#                        +----------------------+                               \n",
    "#                        |- _name: string       |                               \n",
    "#                +------>|                      |<---------+                    \n",
    "#                |       +----------------------+          |                    \n",
    "#                |       |+ __init__(self, name)|          |                    \n",
    "#                |       |+ get_name(self)      |          |                    \n",
    "#             inherits   +----------------------+       inherits                \n",
    "#                |                                         |                    \n",
    "#                |                                         |                    \n",
    "# +--------------+---------------+      +------------------+------------------+ \n",
    "# |          <<Class>>           |      |              <<Class>>              | \n",
    "# |            Circle            |      |              Rectangle              | \n",
    "# +------------------------------+      +-------------------------------------+ \n",
    "# |- radius: int                 |      |- width: int                         | \n",
    "# |                              |      |- height: int                        | \n",
    "# +------------------------------+      +-------------------------------------+ \n",
    "# |+ __init__(self, name, radius)|      |+ __init__(self, name, width, height)| \n",
    "# |+ calc_area(self)             |      |+ calc_area(self)                    | \n",
    "# |+ calc_perimeter(self)        |      |+ calc_perimeter(self)               | \n",
    "# +------------------------------+      +-------------------------------------+"
   ]
  },
  {
   "cell_type": "code",
   "execution_count": 29,
   "metadata": {
    "id": "Q-ElgNctmxUN"
   },
   "outputs": [
    {
     "name": "stdout",
     "output_type": "stream",
     "text": [
      "All tests passed successfully!\n"
     ]
    }
   ],
   "source": [
    "class Shape:\n",
    "    \"\"\"\n",
    "    The Shape class represents an abstract shape with a name.\n",
    "    \"\"\"\n",
    "\n",
    "    def __init__(self, name):\n",
    "        \"\"\"\n",
    "        The initializer for the Shape class.\n",
    "        \n",
    "        The property name is a private attribute. \n",
    "        \n",
    "        :param str name: The name of the shape.\n",
    "        \"\"\"\n",
    "\n",
    "        self.name = name\n",
    "\n",
    "    def get_name(self):\n",
    "        \"\"\"\n",
    "        This function returns the name of the shape.\n",
    "        \n",
    "        :return: The name of the shape.\n",
    "        \"\"\"\n",
    "\n",
    "        # Please write your code here.\n",
    "        return self.name\n",
    "\n",
    "\n",
    "class Circle(Shape):\n",
    "    \"\"\"\n",
    "    The Circle class represents a circle with a name and radius.\n",
    "    This class inherits from the Shape class.\n",
    "    \"\"\"\n",
    "\n",
    "    def __init__(self, name, radius):\n",
    "        \"\"\"\n",
    "        The initializer for the Circle class.\n",
    "        \n",
    "        :param str name: The name of the circle.\n",
    "        :param int radius: The radius of the circle.\n",
    "        \"\"\"\n",
    "\n",
    "        # Please write your code here.\n",
    "        self.name=name\n",
    "        self.radius=radius\n",
    "\n",
    "    def calc_area(self):\n",
    "        \"\"\"\n",
    "        This function calculates the area of the circle.\n",
    "        \n",
    "        :return: The area of the circle.\n",
    "        \"\"\"\n",
    "\n",
    "        # Please write your code here.\n",
    "        return 3.14*(self.radius**2)\n",
    "\n",
    "    def calc_perimeter(self):\n",
    "        \"\"\"\n",
    "        This function calculates the perimeter of the circle.\n",
    "        \n",
    "        :return: The perimeter of the circle.\n",
    "        \"\"\"\n",
    "\n",
    "        # Please write your code here.\n",
    "        return 3.14*2*self.radius\n",
    "\n",
    "\n",
    "class Rectangle(Shape):\n",
    "    \"\"\"\n",
    "    The Rectangle class represents a rectangle with a name, width, and height.\n",
    "    This class inherits from the Shape class.\n",
    "    \"\"\"\n",
    "\n",
    "    def __init__(self, name, width, height):\n",
    "        \"\"\"\n",
    "        The initializer for the Rectangle class.\n",
    "        \n",
    "        :param str name: The name of the rectangle.\n",
    "        :param int width: The width of the rectangle.\n",
    "        :param int height: The height of the rectangle.\n",
    "        \"\"\"\n",
    "\n",
    "        # Please write your code here.\n",
    "        self.name=name\n",
    "        self.width=width\n",
    "        self.height=height\n",
    "\n",
    "    def calc_area(self):\n",
    "        \"\"\"\n",
    "        This function calculates the area of the rectangle.\n",
    "        \n",
    "        :return: The area of the rectangle.\n",
    "        \"\"\"\n",
    "\n",
    "        # Please write your code here.\n",
    "        return self.width*self.height\n",
    "\n",
    "    def calc_perimeter(self):\n",
    "        \"\"\"\n",
    "        This function calculates the perimeter of the rectangle.\n",
    "        \n",
    "        :return: The perimeter of the rectangle.\n",
    "        \"\"\"\n",
    "\n",
    "        # Please write your code here.\n",
    "        return 2*(self.width+self.height)\n",
    "\n",
    "\n",
    "def main():\n",
    "    circle1 = Circle(\"fancy\", 5)\n",
    "    assert circle1.get_name() == \"fancy\", \"The name of the circle should be fancy.\"\n",
    "    assert circle1.calc_area() == 78.5, \"The area of the circle should be 78.5.\"\n",
    "    assert round(circle1.calc_perimeter(), 1)  == 31.4, \"The perimeter of the circle should be 31.4.\"\n",
    "\n",
    "    rectangle1 = Rectangle(\"lucky\", 3, 4)\n",
    "    assert rectangle1.get_name() == \"lucky\", \"The name of the rectangle should be lucky.\"\n",
    "    assert rectangle1.calc_area() == 12, \"The area of the rectangle should be 12.\"\n",
    "    assert rectangle1.calc_perimeter() == 14, \"The perimeter of the rectangle should be 14.\"\n",
    "\n",
    "    print(\"All tests passed successfully!\")\n",
    "\n",
    "\n",
    "if __name__ == '__main__':\n",
    "    main()"
   ]
  },
  {
   "cell_type": "markdown",
   "metadata": {
    "id": "SR0N2KiCnP-2"
   },
   "source": [
    "# Task 5 - Polynomial Class Implementation\n",
    "\n",
    "Design and implement a class named Polynomial that represents a mathematical polynomial. The class should be capable of performing several operations that mimic the behavior of mathematical polynomials using the following specifications:\n",
    "- **Initialization:** The class should accept a list of coefficients as input. Each element in the list represents the coefficient for the corresponding power of x, starting from the constant term (x^0) up to the highest degree term.\n",
    "- **Evaluation:** The class should include a method evaluate_at(x) that calculates the value of the polynomial for a given value of x.\n",
    "- **Stringification:** When printed, the polynomial should be displayed in standard mathematical form, e.g., 1x^4 + 2x^3 + 3x^2 + 4x + 5.\n",
    "- **Addition:** The class should support adding another Polynomial object to itself using the += operator, which adjusts the polynomial's coefficients accordingly."
   ]
  },
  {
   "cell_type": "code",
   "execution_count": 30,
   "metadata": {
    "id": "M8NC6MGanGCX",
    "scrolled": true
   },
   "outputs": [
    {
     "name": "stdout",
     "output_type": "stream",
     "text": [
      "All tests passed successfully!\n"
     ]
    }
   ],
   "source": [
    "class Polynomial:\n",
    "    \"\"\"\n",
    "    The Polynomial class represents a mathematical polynomial.\n",
    "    \"\"\"\n",
    "\n",
    "    def __init__(self, coefficients):\n",
    "        \"\"\"\n",
    "        The initializer for the Polynomial class.\n",
    "        \n",
    "        :param list coefficients: The coefficients of the polynomial.\n",
    "        \"\"\"\n",
    "\n",
    "        self.coefficients = coefficients\n",
    "\n",
    "    def evaluate_at(self, x):\n",
    "        \"\"\"\n",
    "        This function evaluates the polynomial at a given value of x.\n",
    "        \n",
    "        :param int x: The value of x.\n",
    "        :return: The value of the polynomial at x.\n",
    "        \"\"\"\n",
    "\n",
    "        # Please write your code here.\n",
    "        answer=0\n",
    "        for i in range(len(self.coefficients)):\n",
    "            answer+=self.coefficients[i]*(x**(len(self.coefficients)-i-1))\n",
    "        return answer\n",
    "\n",
    "    def __iadd__(self, other):\n",
    "        \"\"\"\n",
    "        This function adds another Polynomial object to the current polynomial.\n",
    "        \n",
    "        :param Polynomial other: The other Polynomial object to add.\n",
    "        :return: The current Polynomial object with the sum of the coefficients.\n",
    "        \"\"\"\n",
    "\n",
    "        # Please write your code here.\n",
    "        if len(self.coefficients)<=len(other.coefficients):\n",
    "            length=len(other.coefficients)\n",
    "            while len(self.coefficients)<length:\n",
    "                self.coefficients.insert(0,0)\n",
    "            for i in range(length):\n",
    "                self.coefficients[i]+=other.coefficients[i]\n",
    "        else:\n",
    "            temp=other.coefficients[:]\n",
    "            length=len(self.coefficients)\n",
    "            while len(temp)<length:\n",
    "                temp.insert(0,0)\n",
    "            for i in range(length):\n",
    "                self.coefficients[i]+=temp[i]\n",
    "        \n",
    "        return self\n",
    "\n",
    "    def __str__(self):\n",
    "        \"\"\"\n",
    "        This function returns the string representation of the polynomial.\n",
    "        \n",
    "        :return: The string representation of the polynomial.\n",
    "        \"\"\"\n",
    "\n",
    "        # Please write your code here.\n",
    "        answer=''\n",
    "        for i in range(len(self.coefficients)):\n",
    "            answer+=str(self.coefficients[i])+'x^'+str(len(self.coefficients)-1-i)+' + '\n",
    "        return answer[:len(answer)-6]\n",
    "\n",
    "\n",
    "\n",
    "def main():\n",
    "    coefficients = [1, 2, 3, 4, 5]  # 1x^4 + 2x^3 + 3x^2 + 4x + 5\n",
    "    poly = Polynomial(coefficients)\n",
    "    assert poly.evaluate_at(2) == 57, \"The polynomial should evaluate to 57.\"\n",
    "    assert poly.evaluate_at(3) == 179, \"The polynomial should evaluate to 179.\"\n",
    "    assert str(poly) == \"1x^4 + 2x^3 + 3x^2 + 4x^1 + 5\", \"The polynomial should be 1x^4 + 2x^3 + 3x^2 + 4x^1 + 5.\"\n",
    "\n",
    "    coefficients = [4, 6, 8, 10]  # 4x^3 + 6x^2 + 8x^1 + 10\n",
    "    poly2 = Polynomial(coefficients)\n",
    "    assert str(poly2) == \"4x^3 + 6x^2 + 8x^1 + 10\", \"The polynomial should be 4x^3 + 6x^2 + 8x^1 + 10.\"\n",
    "\n",
    "    poly += poly2\n",
    "    assert type(poly) == Polynomial, f\"The result should be a Polynomial object but you returned {type(poly)}.\"\n",
    "    assert str(poly) == \"1x^4 + 6x^3 + 9x^2 + 12x^1 + 15\", \"The polynomial should be 1x^4 + 6x^3 + 9x^2 + 12x^1 + 15.\"\n",
    "\n",
    "    print(\"All tests passed successfully!\")\n",
    "\n",
    "\n",
    "if __name__ == '__main__':\n",
    "    main()"
   ]
  },
  {
   "cell_type": "markdown",
   "metadata": {
    "id": "ftYz8im4ncrX"
   },
   "source": [
    "# Task 6 - Coding Practice 1 - Reverse Digits\n",
    "\n",
    "Write a function that takes a 32-bit signed integer and returns an integer that represents its digits reversed. The solution should employ mathematical operations rather than converting the integer into a string or list."
   ]
  },
  {
   "cell_type": "code",
   "execution_count": 31,
   "metadata": {
    "id": "Dz8Uv035nm1c"
   },
   "outputs": [
    {
     "name": "stdout",
     "output_type": "stream",
     "text": [
      "All tests passed successfully!\n"
     ]
    }
   ],
   "source": [
    "def reverse(x):\n",
    "    \"\"\"\n",
    "    This function reverses the digits of a given number.\n",
    "    \n",
    "    :param int x: The number to reverse.\n",
    "    :return: The reversed number.\n",
    "    \"\"\"\n",
    "    # Please write your code here.\n",
    "    if x<0:\n",
    "        answer=0\n",
    "        x=abs(x)\n",
    "        while x>0:\n",
    "            answer=answer*10+x%10\n",
    "            x//=10\n",
    "        answer=-answer\n",
    "    else:\n",
    "        answer=0\n",
    "        while x>0:\n",
    "            answer=answer*10+x%10\n",
    "            x//=10\n",
    "    return answer\n",
    "\n",
    "\n",
    "\n",
    "def main():\n",
    "    assert reverse(1200) == 21, \"Reversed 1200 should be 21.\"\n",
    "    assert reverse(123) == 321, \"Reversed 123 should be 321.\"\n",
    "    assert reverse(-123) == -321, \"Reversed -123 should be -321.\"\n",
    "\n",
    "    print(\"All tests passed successfully!\")\n",
    "\n",
    "\n",
    "if __name__ == '__main__':\n",
    "    main()"
   ]
  },
  {
   "cell_type": "markdown",
   "metadata": {
    "id": "lh1IeDhNo3YM"
   },
   "source": [
    "# Task 7 - Coding Practice 2 - Funny Numbers\n",
    "\n",
    "Develop a program to determine if a number is classified as a \"Funny\" number. A \"Funny\" number is defined as a positive integer that has only 2, 3, and 5 as its prime factors. For instance, the numbers 6 and 8 are considered \"Funny\", while the number 14 is not, due to the presence of the prime factor 7."
   ]
  },
  {
   "cell_type": "code",
   "execution_count": 32,
   "metadata": {
    "id": "HZ1PRJAUpB2v"
   },
   "outputs": [
    {
     "name": "stdout",
     "output_type": "stream",
     "text": [
      "All tests passed successfully!\n"
     ]
    }
   ],
   "source": [
    "def is_funny(num):\n",
    "    \"\"\"\n",
    "    This function checks whether a given number is a Funny number.\n",
    "    Funny numbers are positive numbers whose prime factors only include 2, 3, 5.\n",
    "    For example, 6, 8 are Funny while 14 is not Funny (includes prime factor 7).\n",
    "    \n",
    "    :param int num: The number to check.\n",
    "    :return: True if the number is Funny, False otherwise.\n",
    "    \"\"\"\n",
    "\n",
    "    # Please write your code here.\n",
    "    while num%2==0:\n",
    "        num//=2\n",
    "    while num%3==0:\n",
    "        num//=3\n",
    "    while num%5==0:\n",
    "        num//=5\n",
    "    if num==1:\n",
    "        return True\n",
    "    else:\n",
    "        return False\n",
    "\n",
    "\n",
    "\n",
    "def main():\n",
    "    assert is_funny(6) == True, \"6 should be a Funny number.\"\n",
    "    assert is_funny(8) == True, \"8 should be a Funny number.\"\n",
    "    assert is_funny(14) == False, \"14 should not be a Funny number.\"\n",
    "\n",
    "    print(\"All tests passed successfully!\")\n",
    "\n",
    "\n",
    "if __name__ == '__main__':\n",
    "    main()"
   ]
  }
 ],
 "metadata": {
  "colab": {
   "provenance": []
  },
  "kernelspec": {
   "display_name": "Python 3",
   "language": "python",
   "name": "python3"
  },
  "language_info": {
   "codemirror_mode": {
    "name": "ipython",
    "version": 3
   },
   "file_extension": ".py",
   "mimetype": "text/x-python",
   "name": "python",
   "nbconvert_exporter": "python",
   "pygments_lexer": "ipython3",
   "version": "3.11.5"
  }
 },
 "nbformat": 4,
 "nbformat_minor": 0
}
