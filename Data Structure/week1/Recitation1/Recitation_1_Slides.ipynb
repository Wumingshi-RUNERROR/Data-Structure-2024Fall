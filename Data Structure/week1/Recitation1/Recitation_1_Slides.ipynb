{
 "cells": [
  {
   "cell_type": "code",
   "execution_count": 1,
   "metadata": {
    "colab": {
     "base_uri": "https://localhost:8080/"
    },
    "id": "7mWZ9kxX1act",
    "outputId": "71ae8665-0b15-46eb-deb6-dbc2d9b32587",
    "pycharm": {
     "name": "#%%\n"
    }
   },
   "outputs": [
    {
     "name": "stdout",
     "output_type": "stream",
     "text": [
      "Fri Feb 11 02:58:09 UTC 2022\n"
     ]
    }
   ],
   "source": [
    "!date"
   ]
  },
  {
   "cell_type": "markdown",
   "metadata": {
    "id": "4KvccPzIrBfD",
    "pycharm": {
     "name": "#%% md\n"
    }
   },
   "source": [
    "# Recitation 1 Slides : Python Object-oriented Programming Slides \n"
   ]
  },
  {
   "cell_type": "markdown",
   "metadata": {
    "id": "QF_rizXHP8al",
    "pycharm": {
     "name": "#%% md\n"
    }
   },
   "source": [
    "# Iterable Object V.S Iterator\n"
   ]
  },
  {
   "cell_type": "code",
   "execution_count": 37,
   "metadata": {
    "colab": {
     "base_uri": "https://localhost:8080/"
    },
    "id": "MsKN3Xg2NljP",
    "outputId": "f8a13b8e-d9ee-40fb-d96a-26b2bd68aa88",
    "pycharm": {
     "name": "#%%\n"
    }
   },
   "outputs": [
    {
     "name": "stdout",
     "output_type": "stream",
     "text": [
      "a\n",
      "c\n",
      "['a', 'b', 'c', 'd']\n",
      "['b']\n",
      "apple\n",
      "cherry\n",
      "NEW apple\n",
      "NEW banana\n",
      "NEW cherry\n"
     ]
    }
   ],
   "source": [
    "#Example 1 Iterable Object \n",
    "# LISTs, something you can run for loop on\n",
    "mylist = ['a','b','c']\n",
    "print(mylist[0])\n",
    "print(mylist[-1])\n",
    "\n",
    "mylist.append('d')\n",
    "print(mylist)\n",
    "# pop, remove, slice\n",
    "mylist2 = mylist[1:2]\n",
    "print(mylist2)\n",
    "\n",
    "mytuple = (\"apple\", \"banana\", \"cherry\")\n",
    "#myit = iter(mytuple)\n",
    "print(mytuple[0])\n",
    "print(mytuple[-1])\n",
    "\n",
    "# mytuple.append(1)\n",
    "\n",
    "for each in mytuple:\n",
    "  print(\"NEW\", each)"
   ]
  },
  {
   "cell_type": "code",
   "execution_count": 36,
   "metadata": {
    "colab": {
     "base_uri": "https://localhost:8080/"
    },
    "id": "V6eyOi3iNrSC",
    "outputId": "888dbab3-031a-4dc6-988a-8da108281a3a",
    "pycharm": {
     "name": "#%%\n"
    }
   },
   "outputs": [
    {
     "name": "stdout",
     "output_type": "stream",
     "text": [
      "<tuple_iterator object at 0x7fd6b8902450>\n",
      "next one apple\n",
      "next one banana\n",
      "next one cherry\n"
     ]
    }
   ],
   "source": [
    "#Example 2 Iterator \n",
    "#Something you transform from Iterable and run next()\n",
    "\n",
    "mytuple = (\"apple\", \"banana\", \"cherry\")\n",
    "myit = iter(mytuple)\n",
    "\n",
    "print(myit)\n",
    "#print(next(myit))\n",
    "#print(next(myit))\n",
    "#print(next(myit))\n",
    "# print(next(myit))\n",
    "\n",
    "for each in myit:\n",
    "  print(\"next one\", each)"
   ]
  },
  {
   "cell_type": "code",
   "execution_count": 35,
   "metadata": {
    "colab": {
     "base_uri": "https://localhost:8080/"
    },
    "id": "4ujWmYp5KZ73",
    "outputId": "fc9b448b-37cb-46e0-d851-890eb7a732f1",
    "pycharm": {
     "name": "#%%\n"
    }
   },
   "outputs": [
    {
     "name": "stdout",
     "output_type": "stream",
     "text": [
      "apple\n",
      "banana\n",
      "cherry\n"
     ]
    }
   ],
   "source": [
    "#Example 3  using iter() to change iterable into iterator\n",
    "\n",
    "mytuple = (\"apple\", \"banana\", \"cherry\")\n",
    "myit = iter(mytuple)\n",
    "\n",
    "print(next(myit))\n",
    "print(next(myit))\n",
    "print(next(myit))"
   ]
  },
  {
   "cell_type": "code",
   "execution_count": 34,
   "metadata": {
    "colab": {
     "base_uri": "https://localhost:8080/",
     "height": 209
    },
    "id": "7EgpKx4IMN5f",
    "outputId": "033a4c74-b750-43b0-a87a-4c974c1fe8fa",
    "pycharm": {
     "name": "#%%\n"
    }
   },
   "outputs": [
    {
     "ename": "TypeError",
     "evalue": "ignored",
     "output_type": "error",
     "traceback": [
      "\u001b[0;31m---------------------------------------------------------------------------\u001b[0m",
      "\u001b[0;31mTypeError\u001b[0m                                 Traceback (most recent call last)",
      "\u001b[0;32m<ipython-input-34-b51d14094470>\u001b[0m in \u001b[0;36m<module>\u001b[0;34m()\u001b[0m\n\u001b[1;32m      1\u001b[0m \u001b[0mmytuple\u001b[0m \u001b[0;34m=\u001b[0m \u001b[0;34m(\u001b[0m\u001b[0;34m\"apple\"\u001b[0m\u001b[0;34m,\u001b[0m \u001b[0;34m\"banana\"\u001b[0m\u001b[0;34m,\u001b[0m \u001b[0;34m\"cherry\"\u001b[0m\u001b[0;34m)\u001b[0m\u001b[0;34m\u001b[0m\u001b[0;34m\u001b[0m\u001b[0m\n\u001b[1;32m      2\u001b[0m \u001b[0;34m\u001b[0m\u001b[0m\n\u001b[0;32m----> 3\u001b[0;31m \u001b[0mprint\u001b[0m\u001b[0;34m(\u001b[0m\u001b[0mnext\u001b[0m\u001b[0;34m(\u001b[0m\u001b[0mmytuple\u001b[0m\u001b[0;34m)\u001b[0m\u001b[0;34m)\u001b[0m\u001b[0;34m\u001b[0m\u001b[0;34m\u001b[0m\u001b[0m\n\u001b[0m",
      "\u001b[0;31mTypeError\u001b[0m: 'tuple' object is not an iterator"
     ]
    }
   ],
   "source": [
    "mytuple = (\"apple\", \"banana\", \"cherry\")\n",
    "\n",
    "print(next(mytuple))"
   ]
  },
  {
   "cell_type": "markdown",
   "metadata": {
    "id": "Okl4o1QzE1mj",
    "pycharm": {
     "name": "#%% md\n"
    }
   },
   "source": [
    "## Now that we can use it. Let's create an **iterable** by ourselves.\n",
    "\n",
    "Suppose we want to create a new range that starts from 1 instead of 0."
   ]
  },
  {
   "cell_type": "code",
   "execution_count": 32,
   "metadata": {
    "colab": {
     "base_uri": "https://localhost:8080/"
    },
    "id": "OhFxwE7tErye",
    "outputId": "8c65251a-3de0-4116-e0fe-280506522aba",
    "pycharm": {
     "name": "#%%\n"
    }
   },
   "outputs": [
    {
     "name": "stdout",
     "output_type": "stream",
     "text": [
      "10\n",
      "1\n",
      "2\n",
      "3\n",
      "4\n",
      "5\n",
      "6\n",
      "7\n",
      "8\n",
      "9\n",
      "10\n"
     ]
    }
   ],
   "source": [
    "# Example 4: creasing a class which is iterable\n",
    "class MyRange:\n",
    "    def __init__(self, stop):\n",
    "        self._stop = stop\n",
    "\n",
    "    def __len__(self):\n",
    "        return self._stop\n",
    "\n",
    "    def __getitem__(self,k):  # supopose A is MyRange(5), then it should represent 1,2,3,4,5, and when I do A[0], it should give me 1\n",
    "        if k < 0 or k >= self._stop:\n",
    "            raise IndexError('Index Out of Range')\n",
    "        else:\n",
    "            return k+1\n",
    "\n",
    "\n",
    "def check_iterable():\n",
    "    myRange = MyRange(10)\n",
    "    print(myRange[9])\n",
    "    for i in myRange:\n",
    "      print(i)\n",
    "    #print(next(myRange))\n",
    "    # newr = range(10)\n",
    "    #print(next(newr))\n",
    "   \n",
    "   \n",
    "check_iterable()\n"
   ]
  },
  {
   "cell_type": "markdown",
   "metadata": {
    "id": "pTGOWVajFV8U",
    "pycharm": {
     "name": "#%% md\n"
    }
   },
   "source": [
    "Let's create an **iterator** by ourselves."
   ]
  },
  {
   "cell_type": "code",
   "execution_count": 31,
   "metadata": {
    "colab": {
     "base_uri": "https://localhost:8080/"
    },
    "id": "yGUbsZpOKlo_",
    "outputId": "9935ff5f-1783-420f-c544-af556be54111",
    "pycharm": {
     "name": "#%%\n"
    }
   },
   "outputs": [
    {
     "name": "stdout",
     "output_type": "stream",
     "text": [
      "1 2 3 4 5\n",
      "1\n",
      "2\n",
      "3\n",
      "4\n",
      "5\n"
     ]
    }
   ],
   "source": [
    "# Example 5 Create a class/ object as an iterator \n",
    "\n",
    "class RangeIterator:\n",
    "    def __init__(self, stop):\n",
    "        self._current = 0\n",
    "        self._stop = stop\n",
    "\n",
    "    # An iterator must have the __next__ function defined\n",
    "    # which tracks the position of the next element of an iterable\n",
    "    def __next__(self):\n",
    "        self._current += 1\n",
    "        if self._current <= self._stop:\n",
    "            return self._current\n",
    "        else:\n",
    "            raise StopIteration()\n",
    "\n",
    "    # since self.__next__() exists, self is an iterator\n",
    "    def __iter__(self):\n",
    "         return self\n",
    "\n",
    "\n",
    "def check_iterator():\n",
    "    myRange2 = RangeIterator(10)\n",
    "    print(next(myRange2),next(myRange2),next(myRange2),next(myRange2), next(myRange2))\n",
    "    #print(myRange2[2])\n",
    "    for i in RangeIterator(5):\n",
    "        print(i)\n",
    "\n",
    "\n",
    "check_iterator()\n"
   ]
  },
  {
   "cell_type": "markdown",
   "metadata": {
    "id": "6cJfxXvCFvFQ",
    "pycharm": {
     "name": "#%% md\n"
    }
   },
   "source": [
    "The for-loop syntax in Python simply automates this process, creating an iterator for the given iterable, and then repeatedly calling for the next element until catching the StopIteration exception"
   ]
  },
  {
   "cell_type": "code",
   "execution_count": 33,
   "metadata": {
    "colab": {
     "base_uri": "https://localhost:8080/"
    },
    "id": "iJfp3Q8oGTxE",
    "outputId": "3c1a56d1-355c-4d44-8a03-7c35d0d78282",
    "pycharm": {
     "name": "#%%\n"
    }
   },
   "outputs": [
    {
     "name": "stdout",
     "output_type": "stream",
     "text": [
      "1\n",
      "2\n",
      "3\n",
      "4\n",
      "5\n",
      "6\n",
      "7\n",
      "8\n",
      "9\n",
      "10\n",
      "1\n",
      "2\n",
      "3\n",
      "4\n",
      "5\n",
      "6\n",
      "7\n",
      "8\n",
      "9\n",
      "10\n",
      "1\n",
      "2\n",
      "3\n",
      "4\n",
      "5\n",
      "6\n",
      "7\n",
      "8\n",
      "9\n",
      "10\n"
     ]
    }
   ],
   "source": [
    "myRange = MyRange(10)\n",
    "myRange2 = RangeIterator(10)\n",
    "myRange3 = iter(myRange)\n",
    "\n",
    "for i in myRange:\n",
    "    print(i)\n",
    "\n",
    "for i in myRange2:\n",
    "    print(i)\n",
    "\n",
    "for i in myRange3:\n",
    "    print(i)\n"
   ]
  },
  {
   "cell_type": "markdown",
   "metadata": {
    "id": "NFjPZz27QHw1",
    "pycharm": {
     "name": "#%% md\n"
    }
   },
   "source": [
    "# Generator\n"
   ]
  },
  {
   "cell_type": "code",
   "execution_count": 29,
   "metadata": {
    "colab": {
     "base_uri": "https://localhost:8080/"
    },
    "id": "V4Lr7tKCRgKQ",
    "outputId": "acfa20e9-e291-4a24-f6b0-eea0488a75b9",
    "pycharm": {
     "name": "#%%\n"
    }
   },
   "outputs": [
    {
     "data": {
      "text/plain": [
       "[1, 3, 5, 15]"
      ]
     },
     "execution_count": 29,
     "metadata": {},
     "output_type": "execute_result"
    }
   ],
   "source": [
    "mylist = []\n",
    "def factors(n):\n",
    "  for k in range(1, n+1):\n",
    "    if n%k == 0:\n",
    "      mylist.append(k) \n",
    "  return mylist\n",
    "\n",
    "factors(15)"
   ]
  },
  {
   "cell_type": "code",
   "execution_count": 1,
   "metadata": {
    "colab": {
     "base_uri": "https://localhost:8080/"
    },
    "id": "sIGIwPqlRNIZ",
    "outputId": "bc4ec474-f567-4d26-9ae0-7850aabf16d5",
    "pycharm": {
     "name": "#%%\n"
    }
   },
   "outputs": [
    {
     "data": {
      "text/plain": [
       "1"
      ]
     },
     "execution_count": 1,
     "metadata": {},
     "output_type": "execute_result"
    }
   ],
   "source": [
    "def factors(n):\n",
    "  for k in range(1, n+1):\n",
    "    if n%k == 0:\n",
    "      return k \n",
    "\n",
    "factors(15)"
   ]
  },
  {
   "cell_type": "code",
   "execution_count": 27,
   "metadata": {
    "colab": {
     "base_uri": "https://localhost:8080/"
    },
    "id": "yopV8u6-t3cx",
    "outputId": "f9f975a3-8afe-46de-b00c-14f24eb12225",
    "pycharm": {
     "name": "#%%\n"
    }
   },
   "outputs": [
    {
     "name": "stdout",
     "output_type": "stream",
     "text": [
      "<generator object factors at 0x7fd6b8916f50>\n",
      "1 3 5 15\n"
     ]
    }
   ],
   "source": [
    "def factors(n):\n",
    "  for k in range(1, n+1):\n",
    "    if n%k == 0:\n",
    "      yield k \n",
    "\n",
    "\n",
    "fac15 = factors(15)\n",
    "print(fac15)\n",
    "print(next(fac15), next(fac15), next(fac15), next(fac15))"
   ]
  },
  {
   "cell_type": "code",
   "execution_count": 26,
   "metadata": {
    "colab": {
     "base_uri": "https://localhost:8080/"
    },
    "id": "zhk7I_Hm6ND7",
    "outputId": "86454909-345c-4adf-9e95-a976e9d22cf5",
    "pycharm": {
     "name": "#%%\n"
    }
   },
   "outputs": [
    {
     "name": "stdout",
     "output_type": "stream",
     "text": [
      "1,2,4,8,16,32,64,128,256,"
     ]
    }
   ],
   "source": [
    "fac256 = factors(256)\n",
    "for i in fac256:\n",
    "  print(i, end=\",\")\n"
   ]
  },
  {
   "cell_type": "markdown",
   "metadata": {
    "id": "MBw-nZQC230A",
    "pycharm": {
     "name": "#%% md\n"
    }
   },
   "source": [
    "# Automatic Packing and Unpacking "
   ]
  },
  {
   "cell_type": "code",
   "execution_count": 25,
   "metadata": {
    "colab": {
     "base_uri": "https://localhost:8080/"
    },
    "id": "kcquyq3vI24a",
    "outputId": "d9a32788-17c7-4847-f086-b80fc114cefe",
    "pycharm": {
     "name": "#%%\n"
    }
   },
   "outputs": [
    {
     "name": "stdout",
     "output_type": "stream",
     "text": [
      "0 1 1 2 3 5\n",
      "8\n",
      "13\n",
      "21\n",
      "34\n",
      "55\n"
     ]
    }
   ],
   "source": [
    "# Example 1: generator with automatic packing and unpacking\n",
    "def fibonacci():\n",
    "    a,b = 0,1\n",
    "    while True:\n",
    "        # print(a)\n",
    "        yield a\n",
    "        a,b = b, a+b\n",
    "\n",
    "def play_fib():\n",
    "    fib = fibonacci()\n",
    "    print(next(fib),next(fib),next(fib),next(fib),next(fib),next(fib))\n",
    "    print(next(fib))\n",
    "    print(next(fib))\n",
    "    print(next(fib))\n",
    "    print(next(fib))\n",
    "    print(next(fib))\n",
    "  \n",
    "\n",
    "play_fib()"
   ]
  },
  {
   "cell_type": "markdown",
   "metadata": {
    "id": "szao2EMs2_rf",
    "pycharm": {
     "name": "#%% md\n"
    }
   },
   "source": [
    "# Class, attributes and methods in Python"
   ]
  },
  {
   "cell_type": "code",
   "execution_count": 24,
   "metadata": {
    "id": "l7Vm07Sx3MUu",
    "pycharm": {
     "name": "#%%\n"
    }
   },
   "outputs": [],
   "source": [
    "class A:\n",
    "# Example 1 for 1)self, 2)Attributes and secret attributes, 3)methods, 4)magic functions\n",
    "    def __init__(self, netid, sec):\n",
    "        self._netid = netid\n",
    "        self._sec = sec\n",
    "\n",
    "    def _getnetid(self):\n",
    "        return self._netid\n",
    "\n",
    "    def __str__(self):\n",
    "        return 'the student is ' + str(self._netid)\n",
    "\n",
    "\n",
    "class B(A):\n",
    "    def __init__(self, netid, sec, grade):\n",
    "        super().__init__(netid, sec)\n",
    "        self._grade = grade\n",
    "        self._percentgrade = grade/100\n",
    "\n",
    "    def _getgrade(self):\n",
    "        return self._grade\n",
    "\n",
    "\n",
    "a = A('ABC','1')\n",
    "b = B('XYZ', '2', 99)"
   ]
  },
  {
   "cell_type": "markdown",
   "metadata": {
    "id": "h2PSLGEjPaXy",
    "pycharm": {
     "name": "#%% md\n"
    }
   },
   "source": [
    "# Inner Classes"
   ]
  },
  {
   "cell_type": "code",
   "execution_count": 23,
   "metadata": {
    "colab": {
     "base_uri": "https://localhost:8080/"
    },
    "id": "Vp2eR0ZKPeIG",
    "outputId": "578829e5-7e62-405e-94a2-61402eeecf8e",
    "pycharm": {
     "name": "#%%\n"
    }
   },
   "outputs": [
    {
     "name": "stdout",
     "output_type": "stream",
     "text": [
      "10\n"
     ]
    }
   ],
   "source": [
    "# Example 1: inner classes\n",
    "class Economy:\n",
    "    def __init__(self, farm, ind, service):\n",
    "        self.agr = self.Agriculture(farm)\n",
    "        self.ind = self.Industry(ind)\n",
    "        self.ser = self.Services(service)\n",
    "        self._GDP = farm+ind+service\n",
    "\n",
    "    def getGDP(self):\n",
    "        return self._GDP\n",
    "\n",
    "    class Agriculture:\n",
    "        def __init__(self,GDP):\n",
    "            self._GDP = GDP\n",
    "\n",
    "        def _getGDP(self):\n",
    "            return self._GDP\n",
    "\n",
    "    class Industry:\n",
    "        def __init__(self, GDP):\n",
    "            self._GDP = GDP\n",
    "\n",
    "        def _getGDP(self):\n",
    "            return self._GDP\n",
    "\n",
    "    class Services:\n",
    "        def __init__(self, GDP):\n",
    "            self._GDP = GDP\n",
    "\n",
    "        def _getGDP(self):\n",
    "            return self._GDP\n",
    "\n",
    "\n",
    "utopian = Economy(10,40,50)\n",
    "print(utopian.agr._getGDP())"
   ]
  }
 ],
 "metadata": {
  "colab": {
   "collapsed_sections": [],
   "name": "Teaching 1_Slides_2.ipynb",
   "provenance": []
  },
  "kernelspec": {
   "display_name": "Python 3",
   "name": "python3"
  },
  "language_info": {
   "codemirror_mode": {
    "name": "ipython",
    "version": 3
   },
   "file_extension": ".py",
   "mimetype": "text/x-python",
   "name": "python",
   "nbconvert_exporter": "python",
   "pygments_lexer": "ipython3",
   "version": "3.11.5"
  }
 },
 "nbformat": 4,
 "nbformat_minor": 0
}
