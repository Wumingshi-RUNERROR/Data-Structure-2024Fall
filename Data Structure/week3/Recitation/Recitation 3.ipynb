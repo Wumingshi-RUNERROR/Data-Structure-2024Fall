{
 "cells": [
  {
   "cell_type": "code",
   "execution_count": null,
   "metadata": {
    "colab": {
     "base_uri": "https://localhost:8080/"
    },
    "id": "pUsmcISSnlxg",
    "outputId": "b0d92230-0a96-445b-be61-33d25c0128c1"
   },
   "outputs": [],
   "source": [
    "!date"
   ]
  },
  {
   "cell_type": "markdown",
   "metadata": {
    "id": "LmiOdGcPnopV"
   },
   "source": [
    "**Please run the above line to refresh the date before your submission.**"
   ]
  },
  {
   "cell_type": "markdown",
   "metadata": {
    "id": "50TY97QJnO0G"
   },
   "source": [
    "## Data Structures - Recitation 3\n",
    "\n",
    "### Recursion\n",
    "\n",
    "Submit your worksheet according to the schedule for your recitation as outlined on Albert:\n",
    "\n",
    "- **Wednesday Recitation:** Due by Friday, 11:59 PM.\n",
    "- **Thursday Recitation:** Due by Saturday, 11:59 PM.\n",
    "- **Friday Recitation:** Due by Sunday, 11:59 PM.\n",
    "\n",
    "\n",
    "**Important Notes**\n",
    "- Each task must show a reasonable attempt to a solution. \n",
    "- Only solutions submitted in *.ipynb* format are accepted.\n",
    "- Invalid and late submissions are not considered for grading. \n",
    "\n",
    "Name:Ziyue Xu\n",
    "\n",
    "NetID:zx1790"
   ]
  },
  {
   "cell_type": "markdown",
   "metadata": {},
   "source": [
    "# Learning Outcomes\n",
    "\n",
    "In this recitation, you will learn about the following topics:\n",
    "1. **Problem-Solving with Recursion:** Apply recursion to solve problems efficiently.\n",
    "2. **Time Complexity Analysis:** Learn to determine the time complexity of recursive algorithms."
   ]
  },
  {
   "cell_type": "markdown",
   "metadata": {
    "id": "dhNSZJHLnO0V"
   },
   "source": [
    "# Task 1 - Recursion\tAnalysis"
   ]
  },
  {
   "cell_type": "markdown",
   "metadata": {
    "id": "4j73A74knO0W"
   },
   "source": [
    "What is the output for the following recursive program? Don’t run it, first try to guess.\n",
    "\n",
    "**Answer:**\n",
    "1 2 1 3 1 2 1 4 1 2 1 3 1 2 1 "
   ]
  },
  {
   "cell_type": "code",
   "execution_count": 1,
   "metadata": {},
   "outputs": [
    {
     "name": "stdout",
     "output_type": "stream",
     "text": [
      "1 2 1 3 1 2 1 4 1 2 1 3 1 2 1 "
     ]
    }
   ],
   "source": [
    "def f(n):\n",
    "    if n > 0:\n",
    "        f(n - 1)\n",
    "        print(n, end=\" \")\n",
    "        f(n - 1)\n",
    "\n",
    "\n",
    "def main():\n",
    "    f(4)\n",
    "\n",
    "\n",
    "if __name__ == \"__main__\":\n",
    "    main()"
   ]
  },
  {
   "cell_type": "markdown",
   "metadata": {
    "id": "x9K3WakonO0d"
   },
   "source": [
    "# Task 2 - Runtime Analysis"
   ]
  },
  {
   "cell_type": "code",
   "execution_count": null,
   "metadata": {},
   "outputs": [],
   "source": [
    "def func1(n):\n",
    "    if n < 1:\n",
    "        return\n",
    "    else:\n",
    "        for i in range(5 * n):\n",
    "            print(\"hi\")\n",
    "        func1(n - 5)"
   ]
  },
  {
   "cell_type": "markdown",
   "metadata": {
    "id": "jF_SVo_FnO0h"
   },
   "source": [
    "What is the worst case time complexity of the function *func1*?\n",
    "\n",
    "**Answer:** $O(n^{2})$"
   ]
  },
  {
   "cell_type": "code",
   "execution_count": null,
   "metadata": {},
   "outputs": [],
   "source": [
    "def func2(n):\n",
    "    if n < 1:\n",
    "        return\n",
    "    else:\n",
    "        func2(n - 1)\n",
    "        func2(n - 1)\n",
    "        for i in range(n):\n",
    "            print(\"*\")"
   ]
  },
  {
   "cell_type": "markdown",
   "metadata": {
    "id": "RyTTH9eAnO0k"
   },
   "source": [
    "What is the worst case time complexity of the function *func2*?\n",
    "\n",
    "**Answer:**$O(2^{n})$"
   ]
  },
  {
   "cell_type": "markdown",
   "metadata": {
    "id": "qiKxHc6VnO0m"
   },
   "source": [
    "# Task 3 - Palindrome"
   ]
  },
  {
   "cell_type": "markdown",
   "metadata": {
    "id": "x4e39iL_nO0o"
   },
   "source": [
    "Implement function *palindrome()*. This function assesses whether an input String is indeed a palindrome.\n",
    "\n",
    "**Important:**\n",
    "1. Check the string letter by letter, no *string.reverse()*\n",
    "2. Use recursion to break large problem into smaller problem."
   ]
  },
  {
   "cell_type": "code",
   "execution_count": 3,
   "metadata": {
    "id": "og9bxf-anO0p",
    "outputId": "917ee646-a64c-4afd-e478-986b1f3abf89"
   },
   "outputs": [
    {
     "name": "stdout",
     "output_type": "stream",
     "text": [
      "All tests passed successfully!\n"
     ]
    }
   ],
   "source": [
    "def palindrome_recursive(string, index):\n",
    "    \"\"\"\n",
    "    # Complete the palindrome algorithm --- with recursion\n",
    "    # Think about how to break a large problem into smaller subproblems.\n",
    "    What is our base case in this problem?\n",
    "\n",
    "    # Another way to ask: what is our smallest problem?\n",
    "    How to get to this smallest problem?\n",
    "\n",
    "    :param string: String -- the string to check whether it is a palindrome\n",
    "    :param index: Int -- additional parameter for recursion tracking\n",
    "    :return: True, if @string is palindrome, False otherwise\n",
    "    \"\"\"\n",
    "\n",
    "    # Please write your code here.\n",
    "    mid=(len(string)-1)//2\n",
    "    if index==mid:\n",
    "        return string[index]==string[len(string)-1-index]\n",
    "    else:\n",
    "        if string[index]==string[len(string)-1-index]:\n",
    "            return palindrome_recursive(string,index+1)\n",
    "        else:\n",
    "            return False\n",
    "\n",
    "\n",
    "\n",
    "def main():\n",
    "    s1 = \"nodevillivedon\"\n",
    "    s2 = \"livenoevil!liveonevil\"\n",
    "    s3 = \"beliveivileb\"\n",
    "\n",
    "    r1 = palindrome_recursive(s1, 0)\n",
    "    r2 = palindrome_recursive(s2, 0)\n",
    "    r3 = palindrome_recursive(s3, 0)\n",
    "\n",
    "    assert r1 == True, \"Error in palindrome_recursive function for nodevillivedon\"\n",
    "    assert r2 == True, \"Error in palindrome_recursive function for livenoevil!liveonevil\"\n",
    "    assert r3 == False, \"Error in palindrome_recursive function for beliveivileb\"\n",
    "\n",
    "    print(\"All tests passed successfully!\")\n",
    "\n",
    "\n",
    "if __name__ == \"__main__\":\n",
    "    main()"
   ]
  },
  {
   "cell_type": "markdown",
   "metadata": {
    "id": "9mvlXlLqnO0u"
   },
   "source": [
    "# Task 4 - Tower of Hanoi"
   ]
  },
  {
   "cell_type": "markdown",
   "metadata": {
    "id": "pGO7BIeinO0u"
   },
   "source": [
    "Your task is to code the famous Tower of Hanoi problem. Complete function *hanoi()*, so the disks move correctly when you run the program.\n",
    "\n",
    "**Important:**\n",
    "1. We have a graphical demo for this question. (Only works in your local IDE)\n",
    "2. The start, goal,and mid parameters represent three poles.\n",
    "3. To move a disk, call the function game.move(num_disks, start, goal)\n",
    "4. Use recursion to break large problems into smaller problems."
   ]
  },
  {
   "cell_type": "code",
   "execution_count": 1,
   "metadata": {
    "colab": {
     "base_uri": "https://localhost:8080/",
     "height": 363
    },
    "id": "rf4MvePnnO0v",
    "outputId": "b95fea72-4ae2-4903-eb39-7bca1dc9802c"
   },
   "outputs": [
    {
     "ename": "",
     "evalue": "",
     "output_type": "error",
     "traceback": [
      "\u001b[1;31mThe Kernel crashed while executing code in the current cell or a previous cell. \n",
      "\u001b[1;31mPlease review the code in the cell(s) to identify a possible cause of the failure. \n",
      "\u001b[1;31mClick <a href='https://aka.ms/vscodeJupyterKernelCrash'>here</a> for more info. \n",
      "\u001b[1;31mView Jupyter <a href='command:jupyter.viewOutput'>log</a> for further details."
     ]
    }
   ],
   "source": [
    "from tkinter import Tk, Canvas\n",
    "\n",
    "\n",
    "def hanoi(num_disks, start, goal, mid):\n",
    "    \"\"\"\n",
    "    Implement the tower of hanoi algorithm. If implemented correctly, a window should pop up, and disks will move as desired. To move a disk, you can call game.move(num_disks, start, goal)\n",
    "\n",
    "    :param num_disks: The number of disks in this function call.\n",
    "    :param start: Int -- start moving from this pole\n",
    "    :param goal: Int -- move to this pole\n",
    "    :param mid: Int -- Intermediate pole for this move.\n",
    "    :return: None, nothing to return\n",
    "    \"\"\"\n",
    "\n",
    "    # Please write your code here.\n",
    "    if num_disks==0:\n",
    "        return\n",
    "    hanoi(num_disks-1,start,mid,goal)\n",
    "    game.move(num_disks,start,goal)\n",
    "    hanoi(num_disks-1,mid,goal,start)\n",
    "\n",
    "\n",
    "class TkHanoi:\n",
    "    def __init__(self, n):\n",
    "        self.n = n\n",
    "        self.tk = tk = Tk()\n",
    "        self.canvas = c = Canvas(tk)\n",
    "        c.pack()\n",
    "        width, height = tk.getint(c['width']), tk.getint(c['height'])\n",
    "\n",
    "        peg_width = 10\n",
    "        peg_height = height // 2\n",
    "        peg_dist = width // 3\n",
    "        x1, y1 = (peg_dist - peg_width) // 2, height * 1 // 3\n",
    "        x2, y2 = x1 + peg_width, y1 + peg_height\n",
    "        self.pegs = []\n",
    "        p = c.create_rectangle(x1, y1, x2, y2, fill='black')\n",
    "        self.pegs.append(p)\n",
    "        x1, x2 = x1 + peg_dist, x2 + peg_dist\n",
    "        p = c.create_rectangle(x1, y1, x2, y2, fill='black')\n",
    "        self.pegs.append(p)\n",
    "        x1, x2 = x1 + peg_dist, x2 + peg_dist\n",
    "        p = c.create_rectangle(x1, y1, x2, y2, fill='black')\n",
    "        self.pegs.append(p)\n",
    "        self.tk.update()\n",
    "\n",
    "        piece_height = peg_height // 16\n",
    "        max_piece_width = peg_dist * 2 // 3\n",
    "        min_piece_width = 2 * peg_width\n",
    "        self.peg_state = [[], [], []]\n",
    "        self.pieces = {}\n",
    "        x1, y1 = (peg_dist - max_piece_width) // 2, y2 - piece_height - 2\n",
    "        x2, y2 = x1 + max_piece_width, y1 + piece_height\n",
    "        dx = (max_piece_width - min_piece_width) // (2 * max(1, n - 1))\n",
    "        for i in range(n, 0, -1):\n",
    "            p = c.create_rectangle(x1, y1, x2, y2, fill='red')\n",
    "            self.pieces[i] = p\n",
    "            self.peg_state[0].append(i)\n",
    "            x1, x2 = x1 + dx, x2 - dx\n",
    "            y1, y2 = y1 - piece_height - 2, y2 - piece_height - 2\n",
    "            self.tk.update()\n",
    "            self.tk.after(25)\n",
    "\n",
    "    def run(self):\n",
    "        hanoi(self.n, 0, 2, 1)\n",
    "\n",
    "    def move(self, i, a, b):\n",
    "        if self.peg_state[a][-1] != i: raise RuntimeError\n",
    "        del self.peg_state[a][-1]\n",
    "        p = self.pieces[i]\n",
    "        c = self.canvas\n",
    "\n",
    "        ax1, ay1, ax2, ay2 = c.bbox(self.pegs[a])\n",
    "        while 1:\n",
    "            x1, y1, x2, y2 = c.bbox(p)\n",
    "            if y2 < ay1: break\n",
    "            c.move(p, 0, -1)\n",
    "            self.tk.update()\n",
    "\n",
    "        bx1, by1, bx2, by2 = c.bbox(self.pegs[b])\n",
    "        new_center = (bx1 + bx2) // 2\n",
    "        while 1:\n",
    "            x1, y1, x2, y2 = c.bbox(p)\n",
    "            center = (x1 + x2) // 2\n",
    "            if center == new_center: break\n",
    "            if center > new_center:\n",
    "                c.move(p, -1, 0)\n",
    "            else:\n",
    "                c.move(p, 1, 0)\n",
    "            self.tk.update()\n",
    "\n",
    "        piece_height = y2 - y1\n",
    "        new_bottom = by2 - piece_height * len(self.peg_state[b]) - 2\n",
    "        while 1:\n",
    "            x1, y1, x2, y2 = c.bbox(p)\n",
    "            if y2 >= new_bottom: break\n",
    "            c.move(p, 0, 1)\n",
    "            self.tk.update()\n",
    "        self.peg_state[b].append(i)\n",
    "\n",
    "\n",
    "def main():\n",
    "    global game\n",
    "    game = TkHanoi(6)\n",
    "    game.run()\n",
    "    \n",
    "\n",
    "\n",
    "if __name__ == \"__main__\":\n",
    "    main()"
   ]
  },
  {
   "cell_type": "markdown",
   "metadata": {
    "id": "vGThgS_9nO0y"
   },
   "source": [
    "# Task 5 - Combinations"
   ]
  },
  {
   "cell_type": "markdown",
   "metadata": {
    "id": "4z-4bbiAnO0z"
   },
   "source": [
    "Implement a recursive approach to show all the teams that can be created from a group\n",
    "(out of n things choose k at a time). Implement the recursive *showTeams()*, given a group of\n",
    "players, and the size of the team, display all the possible combinations of players.\n",
    "\n",
    "**Important:**\n",
    "1. Combination is different from permutation. This is a combination problem.\n",
    "2. There are $\\frac{n!}{k!(n-k)!}$ combinations (Choose k out of n) [1, 2], [2, 1] are the same\n",
    "combinations.\n",
    "3. There are $\\frac{n!}{(n-k)!}$ permutations (Choose k out of n) [1, 2], [2, 1] are different permutations.\n",
    "4. Understand what is a help function."
   ]
  },
  {
   "cell_type": "markdown",
   "metadata": {
    "id": "YV49bbgTnO0z"
   },
   "source": [
    "#### Example Input:\n",
    "\n",
    "```\n",
    "players = [“Dey”, “Ruowen”, “Josh”, “Kinder”, “Mario”, “Rock”, “LOL”] # 7 players\n",
    "\n",
    "show_team_driver(players, 2) # Choose 2 from 7\n",
    "```"
   ]
  },
  {
   "cell_type": "markdown",
   "metadata": {
    "id": "PJnP_fNpnO00"
   },
   "source": [
    "#### Should output:\n",
    "\n",
    "\n",
    "```\n",
    "['Rock', 'LOL']\n",
    "['Mario', 'LOL']\n",
    "['Mario', 'Rock']\n",
    "['Kinder', 'LOL']\n",
    "['Kinder', 'Rock']\n",
    "['Kinder', 'Mario']\n",
    "['Josh', 'LOL']\n",
    "['Josh', 'Rock']\n",
    "['Josh', 'Mario']\n",
    "['Josh', 'Kinder']\n",
    "['Ruowen', 'LOL']\n",
    "['Ruowen', 'Rock']\n",
    "['Ruowen', 'Mario']\n",
    "['Ruowen', 'Kinder']\n",
    "['Ruowen', 'Josh']\n",
    "['Dey', 'LOL']\n",
    "['Dey', 'Rock']\n",
    "['Dey', 'Mario']\n",
    "['Dey', 'Kinder']\n",
    "['Dey', 'Josh']\n",
    "['Dey', 'Ruowen']\n",
    "```"
   ]
  },
  {
   "cell_type": "markdown",
   "metadata": {
    "id": "mL5atLz9nO00"
   },
   "source": [
    "#### Another example Input:\n",
    "\n",
    "```\n",
    "players = [“Dey”, “Ruowen”, “Josh”, “Kinder”, “Mario”, “Rock”, “LOL”] # 7 players\n",
    "\n",
    "show_team_driver(players, 4) # Choose 4 from 7\n",
    "```"
   ]
  },
  {
   "cell_type": "markdown",
   "metadata": {
    "id": "l1e5QcZinO01"
   },
   "source": [
    "#### Should output:\n",
    "    \n",
    "```\n",
    "['Kinder', 'Mario', 'Rock', 'LOL']\n",
    "['Josh', 'Mario', 'Rock', 'LOL']\n",
    "['Josh', 'Kinder', 'Rock', 'LOL']\n",
    "['Josh', 'Kinder', 'Mario', 'LOL']\n",
    "['Josh', 'Kinder', 'Mario', 'Rock']\n",
    "['Ruowen', 'Mario', 'Rock', 'LOL']\n",
    "['Ruowen', 'Kinder', 'Rock', 'LOL']\n",
    "['Ruowen', 'Kinder', 'Mario', 'LOL']\n",
    "['Ruowen', 'Kinder', 'Mario', 'Rock']\n",
    "['Ruowen', 'Josh', 'Rock', 'LOL']\n",
    "['Ruowen', 'Josh', 'Mario', 'LOL']\n",
    "['Ruowen', 'Josh', 'Mario', 'Rock']\n",
    "['Ruowen', 'Josh', 'Kinder', 'LOL']\n",
    "['Ruowen', 'Josh', 'Kinder', 'Rock']\n",
    "['Ruowen', 'Josh', 'Kinder', 'Mario']\n",
    "['Professor Day', 'Mario', 'Rock', 'LOL']\n",
    "['Professor Day', 'Kinder', 'Rock', 'LOL']\n",
    "['Professor Day', 'Kinder', 'Mario', 'LOL']\n",
    "['Professor Day', 'Kinder', 'Mario', 'Rock']\n",
    "['Professor Day', 'Josh', 'Rock', 'LOL']\n",
    "['Professor Day', 'Josh', 'Mario', 'LOL']\n",
    "['Professor Day', 'Josh', 'Mario', 'Rock']\n",
    "['Professor Day', 'Josh', 'Kinder', 'LOL']\n",
    "['Professor Day', 'Josh', 'Kinder', 'Rock']\n",
    "['Professor Day', 'Josh', 'Kinder', 'Mario']\n",
    "['Professor Day', 'Ruowen', 'Rock', 'LOL']\n",
    "['Professor Day', 'Ruowen', 'Mario', 'LOL']\n",
    "['Professor Day', 'Ruowen', 'Mario', 'Rock']\n",
    "['Professor Day', 'Ruowen', 'Kinder', 'LOL']\n",
    "['Professor Day', 'Ruowen', 'Kinder', 'Rock']\n",
    "['Professor Day', 'Ruowen', 'Kinder', 'Mario']\n",
    "['Professor Day', 'Ruowen', 'Josh', 'LOL']\n",
    "['Professor Day', 'Ruowen', 'Josh', 'Rock']\n",
    "['Professor Day', 'Ruowen', 'Josh', 'Mario']\n",
    "['Professor Day', 'Ruowen', 'Josh', 'Kinder']\n",
    "```\n",
    "\n"
   ]
  },
  {
   "cell_type": "code",
   "execution_count": 16,
   "metadata": {
    "id": "DnP0aUJanO01",
    "outputId": "55fa41c9-1e9a-4390-85bc-0099a4db8162"
   },
   "outputs": [
    {
     "name": "stdout",
     "output_type": "stream",
     "text": [
      "['Rock', 'LOL']\n",
      "['Mario', 'LOL']\n",
      "['Mario', 'Rock']\n",
      "['Kinder', 'LOL']\n",
      "['Kinder', 'Rock']\n",
      "['Kinder', 'Mario']\n",
      "['Josh', 'LOL']\n",
      "['Josh', 'Rock']\n",
      "['Josh', 'Mario']\n",
      "['Josh', 'Kinder']\n",
      "['Ruowen', 'LOL']\n",
      "['Ruowen', 'Rock']\n",
      "['Ruowen', 'Mario']\n",
      "['Ruowen', 'Kinder']\n",
      "['Ruowen', 'Josh']\n",
      "['Dey', 'LOL']\n",
      "['Dey', 'Rock']\n",
      "['Dey', 'Mario']\n",
      "['Dey', 'Kinder']\n",
      "['Dey', 'Josh']\n",
      "['Dey', 'Ruowen']\n"
     ]
    }
   ],
   "source": [
    "import copy\n",
    "\n",
    "\n",
    "def show_team(names, team_size):\n",
    "    help_show_team(names, team_size, [], 0)\n",
    "\n",
    "\n",
    "def help_show_team(names, team_size, result_list, position):\n",
    "    \"\"\"\n",
    "    # Base case 1: we get enough persons in the result_list.\n",
    "    # Base case 2: we have checked all the players.\n",
    "\n",
    "    # Create two branches\n",
    "    # Branch 1 add current person to result_list\n",
    "    # Branch 2 does not add current person to result_list(copy)\n",
    "    # Move on to the next person    \n",
    "\n",
    "    :param names: List[String] -- list of players\n",
    "    :param team_size: Int -- choose how many players\n",
    "    :param result_list: List[String] -- Additional list parameter for recursion\n",
    "    :param position: Int -- Additional index parameter for recursion\n",
    "    :return: None, nothing to return\n",
    "    \"\"\"\n",
    "\n",
    "    # Please write your code here.\n",
    "    if len(result_list)==team_size:\n",
    "        print(result_list)\n",
    "        return\n",
    "    if position==len(names):\n",
    "        return\n",
    "\n",
    "    help_show_team(names,team_size,result_list[:],position+1)\n",
    "    result_list.append(names[position])\n",
    "    help_show_team(names,team_size,result_list[:],position+1)\n",
    "\n",
    "\n",
    "    \n",
    "\n",
    "\n",
    "def main():\n",
    "    players = [\"Dey\", \"Ruowen\", \"Josh\", \"Kinder\", \"Mario\", \"Rock\", \"LOL\"]\n",
    "    show_team(players, 2)\n",
    "\n",
    "\n",
    "if __name__ == \"__main__\":\n",
    "    main()"
   ]
  },
  {
   "cell_type": "markdown",
   "metadata": {
    "id": "07t528xHnO02"
   },
   "source": [
    "# Task 6 - Binary Search"
   ]
  },
  {
   "cell_type": "markdown",
   "metadata": {
    "id": "HxCTAEc9nO03"
   },
   "source": [
    "Complete function *binary_search()*: this function uses a binary search to determine whether an ordered list contains a specified value. We will implement two versions of binary search:\n",
    "1. Recursive\n",
    "2. Iterative"
   ]
  },
  {
   "cell_type": "code",
   "execution_count": 5,
   "metadata": {
    "id": "9SHf2jMTnO04",
    "outputId": "5978b6c2-445c-4170-c89a-f9248f7114eb"
   },
   "outputs": [
    {
     "name": "stdout",
     "output_type": "stream",
     "text": [
      "Testing recursive binary search ...\n",
      "List contains value 13\n",
      "List does not contain value 20\n",
      "List contains value 26\n",
      "List contains value 72\n",
      "List does not contain value 48\n",
      "Testing iterative binary search ...\n",
      "List contains value 9\n",
      "List contains value 41\n",
      "List does not contain value 81\n",
      "List contains value 95\n",
      "List contains value 64\n"
     ]
    }
   ],
   "source": [
    "import random\n",
    "\n",
    "\n",
    "def binary_search_rec(x, sorted_list):\n",
    "    \"\"\"\n",
    "    This function uses binary search to determine whether an ordered array\n",
    "    contains a specified value.\n",
    "    \n",
    "    :param x: The value to search for.\n",
    "    :param sorted_list: a sorted list of integers.\n",
    "    :return: True if value x is in the list, False otherwise.\n",
    "    \"\"\"\n",
    "\n",
    "    # Please write your code here.\n",
    "    if not sorted_list:\n",
    "        return False\n",
    "    \n",
    "    mid=len(sorted_list)//2\n",
    "    if sorted_list[mid]==x:\n",
    "        return True\n",
    "    elif sorted_list[mid]<x:\n",
    "        return binary_search_rec(x,sorted_list[mid+1:])\n",
    "    else:\n",
    "        return binary_search_rec(x,sorted_list[:mid])\n",
    "\n",
    "def binary_search_iter(x, sorted_list):\n",
    "    \"\"\"\n",
    "    This function uses binary search to determine whether an ordered array\n",
    "    contains a specified value.\n",
    "    \n",
    "    :param x: The value to search for.\n",
    "    :param sorted_list: a sorted list of integers.\n",
    "    :return: True if value x is in the list, False otherwise.\n",
    "    \"\"\"\n",
    "\n",
    "    # Please write your code here.\n",
    "    left=0\n",
    "    right=len(sorted_list)-1\n",
    "\n",
    "    while left<=right:\n",
    "        mid=(left+right)//2\n",
    "        if sorted_list[mid]==x:\n",
    "            return True\n",
    "        elif sorted_list[mid]<x:\n",
    "            left=mid+1\n",
    "        else:\n",
    "            right=mid-1\n",
    "\n",
    "\n",
    "def main():\n",
    "    sorted_list = []\n",
    "    for i in range(100):\n",
    "        sorted_list.append(random.randint(0, 100))\n",
    "    sorted_list.sort()\n",
    "\n",
    "    print(\"Testing recursive binary search ...\")\n",
    "    for i in range(5):\n",
    "        value = random.randint(0, 100)\n",
    "        answer = binary_search_rec(value, sorted_list)\n",
    "        if answer:\n",
    "            print(\"List contains value\", value)\n",
    "        else:\n",
    "            print(\"List does not contain value\", value)\n",
    "\n",
    "    print(\"Testing iterative binary search ...\")\n",
    "    for i in range(5):\n",
    "        value = random.randint(0, 100)\n",
    "        answer = binary_search_iter(value, sorted_list)\n",
    "        if answer:\n",
    "            print(\"List contains value\", value)\n",
    "        else:\n",
    "            print(\"List does not contain value\", value)\n",
    "\n",
    "\n",
    "if __name__ == \"__main__\":\n",
    "    main()"
   ]
  },
  {
   "cell_type": "markdown",
   "metadata": {
    "id": "0Y_aueWanO05"
   },
   "source": [
    "# Task 7 - Draw a Tree"
   ]
  },
  {
   "cell_type": "markdown",
   "metadata": {
    "id": "eknRsAMjnO05"
   },
   "source": [
    "Use Turtle module draw a Tree (**Use recursion**)</br>  \n",
    "\n",
    "Turtle module is a python built in module. Turtle module draws lines by moving the cursor.\n",
    "\n"
   ]
  },
  {
   "cell_type": "markdown",
   "metadata": {
    "id": "egRyaCALnO05"
   },
   "source": [
    "**For example (the following works only in your IDE)**\n",
    "\n",
    "```\n",
    "import turtle\n",
    "t = turtle.Turtle() # Initialize the turtle\n",
    "t.left(30) # The turtle turns left 30 degrees\n",
    "t.right(30) # The turtle turns right 30 degrees\n",
    "t.forward(20) # The turtle moves forward 20 pixels, leave a line on the path.\n",
    "t.backward(30) # The turtle moves backward 30 pixels, leave a line on the path.\n",
    "```\n",
    "\n",
    "… and more! In this recitation, that’s all we need.\"\"\""
   ]
  },
  {
   "cell_type": "markdown",
   "metadata": {
    "id": "RReSC5lbnO06"
   },
   "source": [
    "With the mind set of recursion, let’s break down this problem.\n",
    "\n",
    "1. Move forward\n",
    "2. Make a turn, aim to the direction for the first branch\n",
    "3. Recursion for a smaller problem\n",
    "4. Make a turn, aim to the direction for the second branch\n",
    "5. Recursion for a smaller problem\n",
    "6. Make a turn, aim to the direction for coming back\n",
    "7. Come back"
   ]
  },
  {
   "cell_type": "markdown",
   "metadata": {
    "id": "UjdbMzCCnO06"
   },
   "source": [
    "Base case: If the branch is too small, stop.   \n",
    "Otherwise, we should create two new branches (two recursions, two smaller problems)"
   ]
  },
  {
   "cell_type": "code",
   "execution_count": 8,
   "metadata": {
    "colab": {
     "base_uri": "https://localhost:8080/"
    },
    "id": "WG4nN0ac0_f7",
    "outputId": "49f3e731-5a03-4511-c586-0207ac8c6987"
   },
   "outputs": [
    {
     "name": "stdout",
     "output_type": "stream",
     "text": [
      "Collecting ColabTurtle\n",
      "  Downloading ColabTurtle-2.1.0.tar.gz (6.8 kB)\n",
      "  Preparing metadata (setup.py): started\n",
      "  Preparing metadata (setup.py): finished with status 'done'\n",
      "Building wheels for collected packages: ColabTurtle\n",
      "  Building wheel for ColabTurtle (setup.py): started\n",
      "  Building wheel for ColabTurtle (setup.py): finished with status 'done'\n",
      "  Created wheel for ColabTurtle: filename=ColabTurtle-2.1.0-py3-none-any.whl size=7646 sha256=e2b30d4812a52dcb27bfb25451c869f72a31d61d6d2181d7aeed22264c37aac3\n",
      "  Stored in directory: c:\\users\\xym\\appdata\\local\\pip\\cache\\wheels\\f6\\9e\\81\\137e7da25129474562d30f8660be599e5c8d79228cb747e5b9\n",
      "Successfully built ColabTurtle\n",
      "Installing collected packages: ColabTurtle\n",
      "Successfully installed ColabTurtle-2.1.0\n",
      "Requirement already satisfied: ColabTurtle in c:\\users\\xym\\new\\lib\\site-packages (2.1.0)\n"
     ]
    }
   ],
   "source": [
    "!pip3 install ColabTurtle"
   ]
  },
  {
   "cell_type": "code",
   "execution_count": 14,
   "metadata": {
    "colab": {
     "base_uri": "https://localhost:8080/",
     "height": 521
    },
    "id": "mCXdwWTNnO07",
    "outputId": "670947a2-f6c6-42da-acbc-d7c670b95e97"
   },
   "outputs": [
    {
     "data": {
      "text/html": [
       "\n",
       "      <svg width=\"800\" height=\"500\">\n",
       "        <rect width=\"100%\" height=\"100%\" fill=\"black\"/>\n",
       "        <line x1=\"400\" y1=\"250\" x2=\"500.0\" y2=\"250.0\" stroke-linecap=\"round\" style=\"stroke:white;stroke-width:4\"/><line x1=\"500.0\" y1=\"250.0\" x2=\"400.0\" y2=\"250.0\" stroke-linecap=\"round\" style=\"stroke:green;stroke-width:4\"/><line x1=\"400.0\" y1=\"250.0\" x2=\"317.896\" y2=\"228.0\" stroke-linecap=\"round\" style=\"stroke:green;stroke-width:4\"/><line x1=\"317.896\" y1=\"228.0\" x2=\"257.274\" y2=\"193.0\" stroke-linecap=\"round\" style=\"stroke:green;stroke-width:4\"/><line x1=\"257.274\" y1=\"193.0\" x2=\"218.383\" y2=\"154.109\" stroke-linecap=\"round\" style=\"stroke:green;stroke-width:4\"/><line x1=\"218.383\" y1=\"154.109\" x2=\"198.383\" y2=\"119.468\" stroke-linecap=\"round\" style=\"stroke:green;stroke-width:4\"/><line x1=\"198.383\" y1=\"119.468\" x2=\"191.913\" y2=\"95.32\" stroke-linecap=\"round\" style=\"stroke:green;stroke-width:4\"/><line x1=\"191.913\" y1=\"95.32\" x2=\"191.913\" y2=\"85.32\" stroke-linecap=\"round\" style=\"stroke:green;stroke-width:4\"/><line x1=\"191.913\" y1=\"85.32\" x2=\"191.913\" y2=\"95.32\" stroke-linecap=\"round\" style=\"stroke:green;stroke-width:4\"/><line x1=\"191.913\" y1=\"95.32\" x2=\"186.913\" y2=\"86.66\" stroke-linecap=\"round\" style=\"stroke:green;stroke-width:4\"/><line x1=\"186.913\" y1=\"86.66\" x2=\"191.913\" y2=\"95.32\" stroke-linecap=\"round\" style=\"stroke:green;stroke-width:4\"/><line x1=\"191.913\" y1=\"95.32\" x2=\"198.383\" y2=\"119.468\" stroke-linecap=\"round\" style=\"stroke:green;stroke-width:4\"/><line x1=\"198.383\" y1=\"119.468\" x2=\"180.705\" y2=\"101.79\" stroke-linecap=\"round\" style=\"stroke:green;stroke-width:4\"/><line x1=\"180.705\" y1=\"101.79\" x2=\"175.705\" y2=\"93.13\" stroke-linecap=\"round\" style=\"stroke:green;stroke-width:4\"/><line x1=\"175.705\" y1=\"93.13\" x2=\"180.705\" y2=\"101.79\" stroke-linecap=\"round\" style=\"stroke:green;stroke-width:4\"/><line x1=\"180.705\" y1=\"101.79\" x2=\"172.045\" y2=\"96.79\" stroke-linecap=\"round\" style=\"stroke:green;stroke-width:4\"/><line x1=\"172.045\" y1=\"96.79\" x2=\"180.705\" y2=\"101.79\" stroke-linecap=\"round\" style=\"stroke:green;stroke-width:4\"/><line x1=\"180.705\" y1=\"101.79\" x2=\"198.383\" y2=\"119.468\" stroke-linecap=\"round\" style=\"stroke:green;stroke-width:4\"/><line x1=\"198.383\" y1=\"119.468\" x2=\"218.383\" y2=\"154.109\" stroke-linecap=\"round\" style=\"stroke:green;stroke-width:4\"/><line x1=\"218.383\" y1=\"154.109\" x2=\"183.742\" y2=\"134.109\" stroke-linecap=\"round\" style=\"stroke:green;stroke-width:4\"/><line x1=\"183.742\" y1=\"134.109\" x2=\"166.064\" y2=\"116.431\" stroke-linecap=\"round\" style=\"stroke:green;stroke-width:4\"/><line x1=\"166.064\" y1=\"116.431\" x2=\"161.064\" y2=\"107.771\" stroke-linecap=\"round\" style=\"stroke:green;stroke-width:4\"/><line x1=\"161.064\" y1=\"107.771\" x2=\"166.064\" y2=\"116.431\" stroke-linecap=\"round\" style=\"stroke:green;stroke-width:4\"/><line x1=\"166.064\" y1=\"116.431\" x2=\"157.404\" y2=\"111.431\" stroke-linecap=\"round\" style=\"stroke:green;stroke-width:4\"/><line x1=\"157.404\" y1=\"111.431\" x2=\"166.064\" y2=\"116.431\" stroke-linecap=\"round\" style=\"stroke:green;stroke-width:4\"/><line x1=\"166.064\" y1=\"116.431\" x2=\"183.742\" y2=\"134.109\" stroke-linecap=\"round\" style=\"stroke:green;stroke-width:4\"/><line x1=\"183.742\" y1=\"134.109\" x2=\"159.594\" y2=\"127.639\" stroke-linecap=\"round\" style=\"stroke:green;stroke-width:4\"/><line x1=\"159.594\" y1=\"127.639\" x2=\"150.934\" y2=\"122.639\" stroke-linecap=\"round\" style=\"stroke:green;stroke-width:4\"/><line x1=\"150.934\" y1=\"122.639\" x2=\"159.594\" y2=\"127.639\" stroke-linecap=\"round\" style=\"stroke:green;stroke-width:4\"/><line x1=\"159.594\" y1=\"127.639\" x2=\"149.594\" y2=\"127.639\" stroke-linecap=\"round\" style=\"stroke:green;stroke-width:4\"/><line x1=\"149.594\" y1=\"127.639\" x2=\"159.594\" y2=\"127.639\" stroke-linecap=\"round\" style=\"stroke:green;stroke-width:4\"/><line x1=\"159.594\" y1=\"127.639\" x2=\"183.742\" y2=\"134.109\" stroke-linecap=\"round\" style=\"stroke:green;stroke-width:4\"/><line x1=\"183.742\" y1=\"134.109\" x2=\"218.383\" y2=\"154.109\" stroke-linecap=\"round\" style=\"stroke:green;stroke-width:4\"/><line x1=\"218.383\" y1=\"154.109\" x2=\"257.274\" y2=\"193.0\" stroke-linecap=\"round\" style=\"stroke:green;stroke-width:4\"/><line x1=\"257.274\" y1=\"193.0\" x2=\"204.148\" y2=\"178.765\" stroke-linecap=\"round\" style=\"stroke:green;stroke-width:4\"/><line x1=\"204.148\" y1=\"178.765\" x2=\"169.507\" y2=\"158.765\" stroke-linecap=\"round\" style=\"stroke:green;stroke-width:4\"/><line x1=\"169.507\" y1=\"158.765\" x2=\"151.829\" y2=\"141.087\" stroke-linecap=\"round\" style=\"stroke:green;stroke-width:4\"/><line x1=\"151.829\" y1=\"141.087\" x2=\"146.829\" y2=\"132.427\" stroke-linecap=\"round\" style=\"stroke:green;stroke-width:4\"/><line x1=\"146.829\" y1=\"132.427\" x2=\"151.829\" y2=\"141.087\" stroke-linecap=\"round\" style=\"stroke:green;stroke-width:4\"/><line x1=\"151.829\" y1=\"141.087\" x2=\"143.169\" y2=\"136.087\" stroke-linecap=\"round\" style=\"stroke:green;stroke-width:4\"/><line x1=\"143.169\" y1=\"136.087\" x2=\"151.829\" y2=\"141.087\" stroke-linecap=\"round\" style=\"stroke:green;stroke-width:4\"/><line x1=\"151.829\" y1=\"141.087\" x2=\"169.507\" y2=\"158.765\" stroke-linecap=\"round\" style=\"stroke:green;stroke-width:4\"/><line x1=\"169.507\" y1=\"158.765\" x2=\"145.359\" y2=\"152.295\" stroke-linecap=\"round\" style=\"stroke:green;stroke-width:4\"/><line x1=\"145.359\" y1=\"152.295\" x2=\"136.699\" y2=\"147.295\" stroke-linecap=\"round\" style=\"stroke:green;stroke-width:4\"/><line x1=\"136.699\" y1=\"147.295\" x2=\"145.359\" y2=\"152.295\" stroke-linecap=\"round\" style=\"stroke:green;stroke-width:4\"/><line x1=\"145.359\" y1=\"152.295\" x2=\"135.359\" y2=\"152.295\" stroke-linecap=\"round\" style=\"stroke:green;stroke-width:4\"/><line x1=\"135.359\" y1=\"152.295\" x2=\"145.359\" y2=\"152.295\" stroke-linecap=\"round\" style=\"stroke:green;stroke-width:4\"/><line x1=\"145.359\" y1=\"152.295\" x2=\"169.507\" y2=\"158.765\" stroke-linecap=\"round\" style=\"stroke:green;stroke-width:4\"/><line x1=\"169.507\" y1=\"158.765\" x2=\"204.148\" y2=\"178.765\" stroke-linecap=\"round\" style=\"stroke:green;stroke-width:4\"/><line x1=\"204.148\" y1=\"178.765\" x2=\"164.148\" y2=\"178.765\" stroke-linecap=\"round\" style=\"stroke:green;stroke-width:4\"/><line x1=\"164.148\" y1=\"178.765\" x2=\"140.0\" y2=\"172.295\" stroke-linecap=\"round\" style=\"stroke:green;stroke-width:4\"/><line x1=\"140.0\" y1=\"172.295\" x2=\"131.34\" y2=\"167.295\" stroke-linecap=\"round\" style=\"stroke:green;stroke-width:4\"/><line x1=\"131.34\" y1=\"167.295\" x2=\"140.0\" y2=\"172.295\" stroke-linecap=\"round\" style=\"stroke:green;stroke-width:4\"/><line x1=\"140.0\" y1=\"172.295\" x2=\"130.0\" y2=\"172.295\" stroke-linecap=\"round\" style=\"stroke:green;stroke-width:4\"/><line x1=\"130.0\" y1=\"172.295\" x2=\"140.0\" y2=\"172.295\" stroke-linecap=\"round\" style=\"stroke:green;stroke-width:4\"/><line x1=\"140.0\" y1=\"172.295\" x2=\"164.148\" y2=\"178.765\" stroke-linecap=\"round\" style=\"stroke:green;stroke-width:4\"/><line x1=\"164.148\" y1=\"178.765\" x2=\"140.0\" y2=\"185.235\" stroke-linecap=\"round\" style=\"stroke:green;stroke-width:4\"/><line x1=\"140.0\" y1=\"185.235\" x2=\"130.0\" y2=\"185.235\" stroke-linecap=\"round\" style=\"stroke:green;stroke-width:4\"/><line x1=\"130.0\" y1=\"185.235\" x2=\"140.0\" y2=\"185.235\" stroke-linecap=\"round\" style=\"stroke:green;stroke-width:4\"/><line x1=\"140.0\" y1=\"185.235\" x2=\"131.34\" y2=\"190.235\" stroke-linecap=\"round\" style=\"stroke:green;stroke-width:4\"/><line x1=\"131.34\" y1=\"190.235\" x2=\"140.0\" y2=\"185.235\" stroke-linecap=\"round\" style=\"stroke:green;stroke-width:4\"/><line x1=\"140.0\" y1=\"185.235\" x2=\"164.148\" y2=\"178.765\" stroke-linecap=\"round\" style=\"stroke:green;stroke-width:4\"/><line x1=\"164.148\" y1=\"178.765\" x2=\"204.148\" y2=\"178.765\" stroke-linecap=\"round\" style=\"stroke:green;stroke-width:4\"/><line x1=\"204.148\" y1=\"178.765\" x2=\"257.274\" y2=\"193.0\" stroke-linecap=\"round\" style=\"stroke:green;stroke-width:4\"/><line x1=\"257.274\" y1=\"193.0\" x2=\"317.896\" y2=\"228.0\" stroke-linecap=\"round\" style=\"stroke:green;stroke-width:4\"/><line x1=\"317.896\" y1=\"228.0\" x2=\"247.896\" y2=\"228.0\" stroke-linecap=\"round\" style=\"stroke:green;stroke-width:4\"/><line x1=\"247.896\" y1=\"228.0\" x2=\"194.77\" y2=\"213.765\" stroke-linecap=\"round\" style=\"stroke:green;stroke-width:4\"/><line x1=\"194.77\" y1=\"213.765\" x2=\"160.129\" y2=\"193.765\" stroke-linecap=\"round\" style=\"stroke:green;stroke-width:4\"/><line x1=\"160.129\" y1=\"193.765\" x2=\"142.451\" y2=\"176.087\" stroke-linecap=\"round\" style=\"stroke:green;stroke-width:4\"/><line x1=\"142.451\" y1=\"176.087\" x2=\"137.451\" y2=\"167.427\" stroke-linecap=\"round\" style=\"stroke:green;stroke-width:4\"/><line x1=\"137.451\" y1=\"167.427\" x2=\"142.451\" y2=\"176.087\" stroke-linecap=\"round\" style=\"stroke:green;stroke-width:4\"/><line x1=\"142.451\" y1=\"176.087\" x2=\"133.791\" y2=\"171.087\" stroke-linecap=\"round\" style=\"stroke:green;stroke-width:4\"/><line x1=\"133.791\" y1=\"171.087\" x2=\"142.451\" y2=\"176.087\" stroke-linecap=\"round\" style=\"stroke:green;stroke-width:4\"/><line x1=\"142.451\" y1=\"176.087\" x2=\"160.129\" y2=\"193.765\" stroke-linecap=\"round\" style=\"stroke:green;stroke-width:4\"/><line x1=\"160.129\" y1=\"193.765\" x2=\"135.981\" y2=\"187.295\" stroke-linecap=\"round\" style=\"stroke:green;stroke-width:4\"/><line x1=\"135.981\" y1=\"187.295\" x2=\"127.321\" y2=\"182.295\" stroke-linecap=\"round\" style=\"stroke:green;stroke-width:4\"/><line x1=\"127.321\" y1=\"182.295\" x2=\"135.981\" y2=\"187.295\" stroke-linecap=\"round\" style=\"stroke:green;stroke-width:4\"/><line x1=\"135.981\" y1=\"187.295\" x2=\"125.981\" y2=\"187.295\" stroke-linecap=\"round\" style=\"stroke:green;stroke-width:4\"/><line x1=\"125.981\" y1=\"187.295\" x2=\"135.981\" y2=\"187.295\" stroke-linecap=\"round\" style=\"stroke:green;stroke-width:4\"/><line x1=\"135.981\" y1=\"187.295\" x2=\"160.129\" y2=\"193.765\" stroke-linecap=\"round\" style=\"stroke:green;stroke-width:4\"/><line x1=\"160.129\" y1=\"193.765\" x2=\"194.77\" y2=\"213.765\" stroke-linecap=\"round\" style=\"stroke:green;stroke-width:4\"/><line x1=\"194.77\" y1=\"213.765\" x2=\"154.77\" y2=\"213.765\" stroke-linecap=\"round\" style=\"stroke:green;stroke-width:4\"/><line x1=\"154.77\" y1=\"213.765\" x2=\"130.622\" y2=\"207.295\" stroke-linecap=\"round\" style=\"stroke:green;stroke-width:4\"/><line x1=\"130.622\" y1=\"207.295\" x2=\"121.962\" y2=\"202.295\" stroke-linecap=\"round\" style=\"stroke:green;stroke-width:4\"/><line x1=\"121.962\" y1=\"202.295\" x2=\"130.622\" y2=\"207.295\" stroke-linecap=\"round\" style=\"stroke:green;stroke-width:4\"/><line x1=\"130.622\" y1=\"207.295\" x2=\"120.622\" y2=\"207.295\" stroke-linecap=\"round\" style=\"stroke:green;stroke-width:4\"/><line x1=\"120.622\" y1=\"207.295\" x2=\"130.622\" y2=\"207.295\" stroke-linecap=\"round\" style=\"stroke:green;stroke-width:4\"/><line x1=\"130.622\" y1=\"207.295\" x2=\"154.77\" y2=\"213.765\" stroke-linecap=\"round\" style=\"stroke:green;stroke-width:4\"/><line x1=\"154.77\" y1=\"213.765\" x2=\"130.622\" y2=\"220.235\" stroke-linecap=\"round\" style=\"stroke:green;stroke-width:4\"/><line x1=\"130.622\" y1=\"220.235\" x2=\"120.622\" y2=\"220.235\" stroke-linecap=\"round\" style=\"stroke:green;stroke-width:4\"/><line x1=\"120.622\" y1=\"220.235\" x2=\"130.622\" y2=\"220.235\" stroke-linecap=\"round\" style=\"stroke:green;stroke-width:4\"/><line x1=\"130.622\" y1=\"220.235\" x2=\"121.962\" y2=\"225.235\" stroke-linecap=\"round\" style=\"stroke:green;stroke-width:4\"/><line x1=\"121.962\" y1=\"225.235\" x2=\"130.622\" y2=\"220.235\" stroke-linecap=\"round\" style=\"stroke:green;stroke-width:4\"/><line x1=\"130.622\" y1=\"220.235\" x2=\"154.77\" y2=\"213.765\" stroke-linecap=\"round\" style=\"stroke:green;stroke-width:4\"/><line x1=\"154.77\" y1=\"213.765\" x2=\"194.77\" y2=\"213.765\" stroke-linecap=\"round\" style=\"stroke:green;stroke-width:4\"/><line x1=\"194.77\" y1=\"213.765\" x2=\"247.896\" y2=\"228.0\" stroke-linecap=\"round\" style=\"stroke:green;stroke-width:4\"/><line x1=\"247.896\" y1=\"228.0\" x2=\"194.77\" y2=\"242.235\" stroke-linecap=\"round\" style=\"stroke:green;stroke-width:4\"/><line x1=\"194.77\" y1=\"242.235\" x2=\"154.77\" y2=\"242.235\" stroke-linecap=\"round\" style=\"stroke:green;stroke-width:4\"/><line x1=\"154.77\" y1=\"242.235\" x2=\"130.622\" y2=\"235.765\" stroke-linecap=\"round\" style=\"stroke:green;stroke-width:4\"/><line x1=\"130.622\" y1=\"235.765\" x2=\"121.962\" y2=\"230.765\" stroke-linecap=\"round\" style=\"stroke:green;stroke-width:4\"/><line x1=\"121.962\" y1=\"230.765\" x2=\"130.622\" y2=\"235.765\" stroke-linecap=\"round\" style=\"stroke:green;stroke-width:4\"/><line x1=\"130.622\" y1=\"235.765\" x2=\"120.622\" y2=\"235.765\" stroke-linecap=\"round\" style=\"stroke:green;stroke-width:4\"/><line x1=\"120.622\" y1=\"235.765\" x2=\"130.622\" y2=\"235.765\" stroke-linecap=\"round\" style=\"stroke:green;stroke-width:4\"/><line x1=\"130.622\" y1=\"235.765\" x2=\"154.77\" y2=\"242.235\" stroke-linecap=\"round\" style=\"stroke:green;stroke-width:4\"/><line x1=\"154.77\" y1=\"242.235\" x2=\"130.622\" y2=\"248.705\" stroke-linecap=\"round\" style=\"stroke:green;stroke-width:4\"/><line x1=\"130.622\" y1=\"248.705\" x2=\"120.622\" y2=\"248.705\" stroke-linecap=\"round\" style=\"stroke:green;stroke-width:4\"/><line x1=\"120.622\" y1=\"248.705\" x2=\"130.622\" y2=\"248.705\" stroke-linecap=\"round\" style=\"stroke:green;stroke-width:4\"/><line x1=\"130.622\" y1=\"248.705\" x2=\"121.962\" y2=\"253.705\" stroke-linecap=\"round\" style=\"stroke:green;stroke-width:4\"/><line x1=\"121.962\" y1=\"253.705\" x2=\"130.622\" y2=\"248.705\" stroke-linecap=\"round\" style=\"stroke:green;stroke-width:4\"/><line x1=\"130.622\" y1=\"248.705\" x2=\"154.77\" y2=\"242.235\" stroke-linecap=\"round\" style=\"stroke:green;stroke-width:4\"/><line x1=\"154.77\" y1=\"242.235\" x2=\"194.77\" y2=\"242.235\" stroke-linecap=\"round\" style=\"stroke:green;stroke-width:4\"/><line x1=\"194.77\" y1=\"242.235\" x2=\"160.129\" y2=\"262.235\" stroke-linecap=\"round\" style=\"stroke:green;stroke-width:4\"/><line x1=\"160.129\" y1=\"262.235\" x2=\"135.981\" y2=\"268.705\" stroke-linecap=\"round\" style=\"stroke:green;stroke-width:4\"/><line x1=\"135.981\" y1=\"268.705\" x2=\"125.981\" y2=\"268.705\" stroke-linecap=\"round\" style=\"stroke:green;stroke-width:4\"/><line x1=\"125.981\" y1=\"268.705\" x2=\"135.981\" y2=\"268.705\" stroke-linecap=\"round\" style=\"stroke:green;stroke-width:4\"/><line x1=\"135.981\" y1=\"268.705\" x2=\"127.321\" y2=\"273.705\" stroke-linecap=\"round\" style=\"stroke:green;stroke-width:4\"/><line x1=\"127.321\" y1=\"273.705\" x2=\"135.981\" y2=\"268.705\" stroke-linecap=\"round\" style=\"stroke:green;stroke-width:4\"/><line x1=\"135.981\" y1=\"268.705\" x2=\"160.129\" y2=\"262.235\" stroke-linecap=\"round\" style=\"stroke:green;stroke-width:4\"/><line x1=\"160.129\" y1=\"262.235\" x2=\"142.451\" y2=\"279.913\" stroke-linecap=\"round\" style=\"stroke:green;stroke-width:4\"/><line x1=\"142.451\" y1=\"279.913\" x2=\"133.791\" y2=\"284.913\" stroke-linecap=\"round\" style=\"stroke:green;stroke-width:4\"/><line x1=\"133.791\" y1=\"284.913\" x2=\"142.451\" y2=\"279.913\" stroke-linecap=\"round\" style=\"stroke:green;stroke-width:4\"/><line x1=\"142.451\" y1=\"279.913\" x2=\"137.451\" y2=\"288.573\" stroke-linecap=\"round\" style=\"stroke:green;stroke-width:4\"/><line x1=\"137.451\" y1=\"288.573\" x2=\"142.451\" y2=\"279.913\" stroke-linecap=\"round\" style=\"stroke:green;stroke-width:4\"/><line x1=\"142.451\" y1=\"279.913\" x2=\"160.129\" y2=\"262.235\" stroke-linecap=\"round\" style=\"stroke:green;stroke-width:4\"/><line x1=\"160.129\" y1=\"262.235\" x2=\"194.77\" y2=\"242.235\" stroke-linecap=\"round\" style=\"stroke:green;stroke-width:4\"/><line x1=\"194.77\" y1=\"242.235\" x2=\"247.896\" y2=\"228.0\" stroke-linecap=\"round\" style=\"stroke:green;stroke-width:4\"/><line x1=\"247.896\" y1=\"228.0\" x2=\"317.896\" y2=\"228.0\" stroke-linecap=\"round\" style=\"stroke:green;stroke-width:4\"/><line x1=\"317.896\" y1=\"228.0\" x2=\"400.0\" y2=\"250.0\" stroke-linecap=\"round\" style=\"stroke:green;stroke-width:4\"/><line x1=\"400.0\" y1=\"250.0\" x2=\"317.896\" y2=\"272.0\" stroke-linecap=\"round\" style=\"stroke:green;stroke-width:4\"/><line x1=\"317.896\" y1=\"272.0\" x2=\"247.896\" y2=\"272.0\" stroke-linecap=\"round\" style=\"stroke:green;stroke-width:4\"/><line x1=\"247.896\" y1=\"272.0\" x2=\"194.77\" y2=\"257.765\" stroke-linecap=\"round\" style=\"stroke:green;stroke-width:4\"/><line x1=\"194.77\" y1=\"257.765\" x2=\"160.129\" y2=\"237.765\" stroke-linecap=\"round\" style=\"stroke:green;stroke-width:4\"/><line x1=\"160.129\" y1=\"237.765\" x2=\"142.451\" y2=\"220.087\" stroke-linecap=\"round\" style=\"stroke:green;stroke-width:4\"/><line x1=\"142.451\" y1=\"220.087\" x2=\"137.451\" y2=\"211.427\" stroke-linecap=\"round\" style=\"stroke:green;stroke-width:4\"/><line x1=\"137.451\" y1=\"211.427\" x2=\"142.451\" y2=\"220.087\" stroke-linecap=\"round\" style=\"stroke:green;stroke-width:4\"/><line x1=\"142.451\" y1=\"220.087\" x2=\"133.791\" y2=\"215.087\" stroke-linecap=\"round\" style=\"stroke:green;stroke-width:4\"/><line x1=\"133.791\" y1=\"215.087\" x2=\"142.451\" y2=\"220.087\" stroke-linecap=\"round\" style=\"stroke:green;stroke-width:4\"/><line x1=\"142.451\" y1=\"220.087\" x2=\"160.129\" y2=\"237.765\" stroke-linecap=\"round\" style=\"stroke:green;stroke-width:4\"/><line x1=\"160.129\" y1=\"237.765\" x2=\"135.981\" y2=\"231.295\" stroke-linecap=\"round\" style=\"stroke:green;stroke-width:4\"/><line x1=\"135.981\" y1=\"231.295\" x2=\"127.321\" y2=\"226.295\" stroke-linecap=\"round\" style=\"stroke:green;stroke-width:4\"/><line x1=\"127.321\" y1=\"226.295\" x2=\"135.981\" y2=\"231.295\" stroke-linecap=\"round\" style=\"stroke:green;stroke-width:4\"/><line x1=\"135.981\" y1=\"231.295\" x2=\"125.981\" y2=\"231.295\" stroke-linecap=\"round\" style=\"stroke:green;stroke-width:4\"/><line x1=\"125.981\" y1=\"231.295\" x2=\"135.981\" y2=\"231.295\" stroke-linecap=\"round\" style=\"stroke:green;stroke-width:4\"/><line x1=\"135.981\" y1=\"231.295\" x2=\"160.129\" y2=\"237.765\" stroke-linecap=\"round\" style=\"stroke:green;stroke-width:4\"/><line x1=\"160.129\" y1=\"237.765\" x2=\"194.77\" y2=\"257.765\" stroke-linecap=\"round\" style=\"stroke:green;stroke-width:4\"/><line x1=\"194.77\" y1=\"257.765\" x2=\"154.77\" y2=\"257.765\" stroke-linecap=\"round\" style=\"stroke:green;stroke-width:4\"/><line x1=\"154.77\" y1=\"257.765\" x2=\"130.622\" y2=\"251.295\" stroke-linecap=\"round\" style=\"stroke:green;stroke-width:4\"/><line x1=\"130.622\" y1=\"251.295\" x2=\"121.962\" y2=\"246.295\" stroke-linecap=\"round\" style=\"stroke:green;stroke-width:4\"/><line x1=\"121.962\" y1=\"246.295\" x2=\"130.622\" y2=\"251.295\" stroke-linecap=\"round\" style=\"stroke:green;stroke-width:4\"/><line x1=\"130.622\" y1=\"251.295\" x2=\"120.622\" y2=\"251.295\" stroke-linecap=\"round\" style=\"stroke:green;stroke-width:4\"/><line x1=\"120.622\" y1=\"251.295\" x2=\"130.622\" y2=\"251.295\" stroke-linecap=\"round\" style=\"stroke:green;stroke-width:4\"/><line x1=\"130.622\" y1=\"251.295\" x2=\"154.77\" y2=\"257.765\" stroke-linecap=\"round\" style=\"stroke:green;stroke-width:4\"/><line x1=\"154.77\" y1=\"257.765\" x2=\"130.622\" y2=\"264.235\" stroke-linecap=\"round\" style=\"stroke:green;stroke-width:4\"/><line x1=\"130.622\" y1=\"264.235\" x2=\"120.622\" y2=\"264.235\" stroke-linecap=\"round\" style=\"stroke:green;stroke-width:4\"/><line x1=\"120.622\" y1=\"264.235\" x2=\"130.622\" y2=\"264.235\" stroke-linecap=\"round\" style=\"stroke:green;stroke-width:4\"/><line x1=\"130.622\" y1=\"264.235\" x2=\"121.962\" y2=\"269.235\" stroke-linecap=\"round\" style=\"stroke:green;stroke-width:4\"/><line x1=\"121.962\" y1=\"269.235\" x2=\"130.622\" y2=\"264.235\" stroke-linecap=\"round\" style=\"stroke:green;stroke-width:4\"/><line x1=\"130.622\" y1=\"264.235\" x2=\"154.77\" y2=\"257.765\" stroke-linecap=\"round\" style=\"stroke:green;stroke-width:4\"/><line x1=\"154.77\" y1=\"257.765\" x2=\"194.77\" y2=\"257.765\" stroke-linecap=\"round\" style=\"stroke:green;stroke-width:4\"/><line x1=\"194.77\" y1=\"257.765\" x2=\"247.896\" y2=\"272.0\" stroke-linecap=\"round\" style=\"stroke:green;stroke-width:4\"/><line x1=\"247.896\" y1=\"272.0\" x2=\"194.77\" y2=\"286.235\" stroke-linecap=\"round\" style=\"stroke:green;stroke-width:4\"/><line x1=\"194.77\" y1=\"286.235\" x2=\"154.77\" y2=\"286.235\" stroke-linecap=\"round\" style=\"stroke:green;stroke-width:4\"/><line x1=\"154.77\" y1=\"286.235\" x2=\"130.622\" y2=\"279.765\" stroke-linecap=\"round\" style=\"stroke:green;stroke-width:4\"/><line x1=\"130.622\" y1=\"279.765\" x2=\"121.962\" y2=\"274.765\" stroke-linecap=\"round\" style=\"stroke:green;stroke-width:4\"/><line x1=\"121.962\" y1=\"274.765\" x2=\"130.622\" y2=\"279.765\" stroke-linecap=\"round\" style=\"stroke:green;stroke-width:4\"/><line x1=\"130.622\" y1=\"279.765\" x2=\"120.622\" y2=\"279.765\" stroke-linecap=\"round\" style=\"stroke:green;stroke-width:4\"/><line x1=\"120.622\" y1=\"279.765\" x2=\"130.622\" y2=\"279.765\" stroke-linecap=\"round\" style=\"stroke:green;stroke-width:4\"/><line x1=\"130.622\" y1=\"279.765\" x2=\"154.77\" y2=\"286.235\" stroke-linecap=\"round\" style=\"stroke:green;stroke-width:4\"/><line x1=\"154.77\" y1=\"286.235\" x2=\"130.622\" y2=\"292.705\" stroke-linecap=\"round\" style=\"stroke:green;stroke-width:4\"/><line x1=\"130.622\" y1=\"292.705\" x2=\"120.622\" y2=\"292.705\" stroke-linecap=\"round\" style=\"stroke:green;stroke-width:4\"/><line x1=\"120.622\" y1=\"292.705\" x2=\"130.622\" y2=\"292.705\" stroke-linecap=\"round\" style=\"stroke:green;stroke-width:4\"/><line x1=\"130.622\" y1=\"292.705\" x2=\"121.962\" y2=\"297.705\" stroke-linecap=\"round\" style=\"stroke:green;stroke-width:4\"/><line x1=\"121.962\" y1=\"297.705\" x2=\"130.622\" y2=\"292.705\" stroke-linecap=\"round\" style=\"stroke:green;stroke-width:4\"/><line x1=\"130.622\" y1=\"292.705\" x2=\"154.77\" y2=\"286.235\" stroke-linecap=\"round\" style=\"stroke:green;stroke-width:4\"/><line x1=\"154.77\" y1=\"286.235\" x2=\"194.77\" y2=\"286.235\" stroke-linecap=\"round\" style=\"stroke:green;stroke-width:4\"/><line x1=\"194.77\" y1=\"286.235\" x2=\"160.129\" y2=\"306.235\" stroke-linecap=\"round\" style=\"stroke:green;stroke-width:4\"/><line x1=\"160.129\" y1=\"306.235\" x2=\"135.981\" y2=\"312.705\" stroke-linecap=\"round\" style=\"stroke:green;stroke-width:4\"/><line x1=\"135.981\" y1=\"312.705\" x2=\"125.981\" y2=\"312.705\" stroke-linecap=\"round\" style=\"stroke:green;stroke-width:4\"/><line x1=\"125.981\" y1=\"312.705\" x2=\"135.981\" y2=\"312.705\" stroke-linecap=\"round\" style=\"stroke:green;stroke-width:4\"/><line x1=\"135.981\" y1=\"312.705\" x2=\"127.321\" y2=\"317.705\" stroke-linecap=\"round\" style=\"stroke:green;stroke-width:4\"/><line x1=\"127.321\" y1=\"317.705\" x2=\"135.981\" y2=\"312.705\" stroke-linecap=\"round\" style=\"stroke:green;stroke-width:4\"/><line x1=\"135.981\" y1=\"312.705\" x2=\"160.129\" y2=\"306.235\" stroke-linecap=\"round\" style=\"stroke:green;stroke-width:4\"/><line x1=\"160.129\" y1=\"306.235\" x2=\"142.451\" y2=\"323.913\" stroke-linecap=\"round\" style=\"stroke:green;stroke-width:4\"/><line x1=\"142.451\" y1=\"323.913\" x2=\"133.791\" y2=\"328.913\" stroke-linecap=\"round\" style=\"stroke:green;stroke-width:4\"/><line x1=\"133.791\" y1=\"328.913\" x2=\"142.451\" y2=\"323.913\" stroke-linecap=\"round\" style=\"stroke:green;stroke-width:4\"/><line x1=\"142.451\" y1=\"323.913\" x2=\"137.451\" y2=\"332.573\" stroke-linecap=\"round\" style=\"stroke:green;stroke-width:4\"/><line x1=\"137.451\" y1=\"332.573\" x2=\"142.451\" y2=\"323.913\" stroke-linecap=\"round\" style=\"stroke:green;stroke-width:4\"/><line x1=\"142.451\" y1=\"323.913\" x2=\"160.129\" y2=\"306.235\" stroke-linecap=\"round\" style=\"stroke:green;stroke-width:4\"/><line x1=\"160.129\" y1=\"306.235\" x2=\"194.77\" y2=\"286.235\" stroke-linecap=\"round\" style=\"stroke:green;stroke-width:4\"/><line x1=\"194.77\" y1=\"286.235\" x2=\"247.896\" y2=\"272.0\" stroke-linecap=\"round\" style=\"stroke:green;stroke-width:4\"/><line x1=\"247.896\" y1=\"272.0\" x2=\"317.896\" y2=\"272.0\" stroke-linecap=\"round\" style=\"stroke:green;stroke-width:4\"/><line x1=\"317.896\" y1=\"272.0\" x2=\"257.274\" y2=\"307.0\" stroke-linecap=\"round\" style=\"stroke:green;stroke-width:4\"/><line x1=\"257.274\" y1=\"307.0\" x2=\"204.148\" y2=\"321.235\" stroke-linecap=\"round\" style=\"stroke:green;stroke-width:4\"/><line x1=\"204.148\" y1=\"321.235\" x2=\"164.148\" y2=\"321.235\" stroke-linecap=\"round\" style=\"stroke:green;stroke-width:4\"/><line x1=\"164.148\" y1=\"321.235\" x2=\"140.0\" y2=\"314.765\" stroke-linecap=\"round\" style=\"stroke:green;stroke-width:4\"/><line x1=\"140.0\" y1=\"314.765\" x2=\"131.34\" y2=\"309.765\" stroke-linecap=\"round\" style=\"stroke:green;stroke-width:4\"/><line x1=\"131.34\" y1=\"309.765\" x2=\"140.0\" y2=\"314.765\" stroke-linecap=\"round\" style=\"stroke:green;stroke-width:4\"/><line x1=\"140.0\" y1=\"314.765\" x2=\"130.0\" y2=\"314.765\" stroke-linecap=\"round\" style=\"stroke:green;stroke-width:4\"/><line x1=\"130.0\" y1=\"314.765\" x2=\"140.0\" y2=\"314.765\" stroke-linecap=\"round\" style=\"stroke:green;stroke-width:4\"/><line x1=\"140.0\" y1=\"314.765\" x2=\"164.148\" y2=\"321.235\" stroke-linecap=\"round\" style=\"stroke:green;stroke-width:4\"/><line x1=\"164.148\" y1=\"321.235\" x2=\"140.0\" y2=\"327.705\" stroke-linecap=\"round\" style=\"stroke:green;stroke-width:4\"/><line x1=\"140.0\" y1=\"327.705\" x2=\"130.0\" y2=\"327.705\" stroke-linecap=\"round\" style=\"stroke:green;stroke-width:4\"/><line x1=\"130.0\" y1=\"327.705\" x2=\"140.0\" y2=\"327.705\" stroke-linecap=\"round\" style=\"stroke:green;stroke-width:4\"/><line x1=\"140.0\" y1=\"327.705\" x2=\"131.34\" y2=\"332.705\" stroke-linecap=\"round\" style=\"stroke:green;stroke-width:4\"/><line x1=\"131.34\" y1=\"332.705\" x2=\"140.0\" y2=\"327.705\" stroke-linecap=\"round\" style=\"stroke:green;stroke-width:4\"/><line x1=\"140.0\" y1=\"327.705\" x2=\"164.148\" y2=\"321.235\" stroke-linecap=\"round\" style=\"stroke:green;stroke-width:4\"/><line x1=\"164.148\" y1=\"321.235\" x2=\"204.148\" y2=\"321.235\" stroke-linecap=\"round\" style=\"stroke:green;stroke-width:4\"/><line x1=\"204.148\" y1=\"321.235\" x2=\"169.507\" y2=\"341.235\" stroke-linecap=\"round\" style=\"stroke:green;stroke-width:4\"/><line x1=\"169.507\" y1=\"341.235\" x2=\"145.359\" y2=\"347.705\" stroke-linecap=\"round\" style=\"stroke:green;stroke-width:4\"/><line x1=\"145.359\" y1=\"347.705\" x2=\"135.359\" y2=\"347.705\" stroke-linecap=\"round\" style=\"stroke:green;stroke-width:4\"/><line x1=\"135.359\" y1=\"347.705\" x2=\"145.359\" y2=\"347.705\" stroke-linecap=\"round\" style=\"stroke:green;stroke-width:4\"/><line x1=\"145.359\" y1=\"347.705\" x2=\"136.699\" y2=\"352.705\" stroke-linecap=\"round\" style=\"stroke:green;stroke-width:4\"/><line x1=\"136.699\" y1=\"352.705\" x2=\"145.359\" y2=\"347.705\" stroke-linecap=\"round\" style=\"stroke:green;stroke-width:4\"/><line x1=\"145.359\" y1=\"347.705\" x2=\"169.507\" y2=\"341.235\" stroke-linecap=\"round\" style=\"stroke:green;stroke-width:4\"/><line x1=\"169.507\" y1=\"341.235\" x2=\"151.829\" y2=\"358.913\" stroke-linecap=\"round\" style=\"stroke:green;stroke-width:4\"/><line x1=\"151.829\" y1=\"358.913\" x2=\"143.169\" y2=\"363.913\" stroke-linecap=\"round\" style=\"stroke:green;stroke-width:4\"/><line x1=\"143.169\" y1=\"363.913\" x2=\"151.829\" y2=\"358.913\" stroke-linecap=\"round\" style=\"stroke:green;stroke-width:4\"/><line x1=\"151.829\" y1=\"358.913\" x2=\"146.829\" y2=\"367.573\" stroke-linecap=\"round\" style=\"stroke:green;stroke-width:4\"/><line x1=\"146.829\" y1=\"367.573\" x2=\"151.829\" y2=\"358.913\" stroke-linecap=\"round\" style=\"stroke:green;stroke-width:4\"/><line x1=\"151.829\" y1=\"358.913\" x2=\"169.507\" y2=\"341.235\" stroke-linecap=\"round\" style=\"stroke:green;stroke-width:4\"/><line x1=\"169.507\" y1=\"341.235\" x2=\"204.148\" y2=\"321.235\" stroke-linecap=\"round\" style=\"stroke:green;stroke-width:4\"/><line x1=\"204.148\" y1=\"321.235\" x2=\"257.274\" y2=\"307.0\" stroke-linecap=\"round\" style=\"stroke:green;stroke-width:4\"/><line x1=\"257.274\" y1=\"307.0\" x2=\"218.383\" y2=\"345.891\" stroke-linecap=\"round\" style=\"stroke:green;stroke-width:4\"/><line x1=\"218.383\" y1=\"345.891\" x2=\"183.742\" y2=\"365.891\" stroke-linecap=\"round\" style=\"stroke:green;stroke-width:4\"/><line x1=\"183.742\" y1=\"365.891\" x2=\"159.594\" y2=\"372.361\" stroke-linecap=\"round\" style=\"stroke:green;stroke-width:4\"/><line x1=\"159.594\" y1=\"372.361\" x2=\"149.594\" y2=\"372.361\" stroke-linecap=\"round\" style=\"stroke:green;stroke-width:4\"/><line x1=\"149.594\" y1=\"372.361\" x2=\"159.594\" y2=\"372.361\" stroke-linecap=\"round\" style=\"stroke:green;stroke-width:4\"/><line x1=\"159.594\" y1=\"372.361\" x2=\"150.934\" y2=\"377.361\" stroke-linecap=\"round\" style=\"stroke:green;stroke-width:4\"/><line x1=\"150.934\" y1=\"377.361\" x2=\"159.594\" y2=\"372.361\" stroke-linecap=\"round\" style=\"stroke:green;stroke-width:4\"/><line x1=\"159.594\" y1=\"372.361\" x2=\"183.742\" y2=\"365.891\" stroke-linecap=\"round\" style=\"stroke:green;stroke-width:4\"/><line x1=\"183.742\" y1=\"365.891\" x2=\"166.064\" y2=\"383.569\" stroke-linecap=\"round\" style=\"stroke:green;stroke-width:4\"/><line x1=\"166.064\" y1=\"383.569\" x2=\"157.404\" y2=\"388.569\" stroke-linecap=\"round\" style=\"stroke:green;stroke-width:4\"/><line x1=\"157.404\" y1=\"388.569\" x2=\"166.064\" y2=\"383.569\" stroke-linecap=\"round\" style=\"stroke:green;stroke-width:4\"/><line x1=\"166.064\" y1=\"383.569\" x2=\"161.064\" y2=\"392.229\" stroke-linecap=\"round\" style=\"stroke:green;stroke-width:4\"/><line x1=\"161.064\" y1=\"392.229\" x2=\"166.064\" y2=\"383.569\" stroke-linecap=\"round\" style=\"stroke:green;stroke-width:4\"/><line x1=\"166.064\" y1=\"383.569\" x2=\"183.742\" y2=\"365.891\" stroke-linecap=\"round\" style=\"stroke:green;stroke-width:4\"/><line x1=\"183.742\" y1=\"365.891\" x2=\"218.383\" y2=\"345.891\" stroke-linecap=\"round\" style=\"stroke:green;stroke-width:4\"/><line x1=\"218.383\" y1=\"345.891\" x2=\"198.383\" y2=\"380.532\" stroke-linecap=\"round\" style=\"stroke:green;stroke-width:4\"/><line x1=\"198.383\" y1=\"380.532\" x2=\"180.705\" y2=\"398.21\" stroke-linecap=\"round\" style=\"stroke:green;stroke-width:4\"/><line x1=\"180.705\" y1=\"398.21\" x2=\"172.045\" y2=\"403.21\" stroke-linecap=\"round\" style=\"stroke:green;stroke-width:4\"/><line x1=\"172.045\" y1=\"403.21\" x2=\"180.705\" y2=\"398.21\" stroke-linecap=\"round\" style=\"stroke:green;stroke-width:4\"/><line x1=\"180.705\" y1=\"398.21\" x2=\"175.705\" y2=\"406.87\" stroke-linecap=\"round\" style=\"stroke:green;stroke-width:4\"/><line x1=\"175.705\" y1=\"406.87\" x2=\"180.705\" y2=\"398.21\" stroke-linecap=\"round\" style=\"stroke:green;stroke-width:4\"/><line x1=\"180.705\" y1=\"398.21\" x2=\"198.383\" y2=\"380.532\" stroke-linecap=\"round\" style=\"stroke:green;stroke-width:4\"/><line x1=\"198.383\" y1=\"380.532\" x2=\"191.913\" y2=\"404.68\" stroke-linecap=\"round\" style=\"stroke:green;stroke-width:4\"/><line x1=\"191.913\" y1=\"404.68\" x2=\"186.913\" y2=\"413.34\" stroke-linecap=\"round\" style=\"stroke:green;stroke-width:4\"/><line x1=\"186.913\" y1=\"413.34\" x2=\"191.913\" y2=\"404.68\" stroke-linecap=\"round\" style=\"stroke:green;stroke-width:4\"/><line x1=\"191.913\" y1=\"404.68\" x2=\"191.913\" y2=\"414.68\" stroke-linecap=\"round\" style=\"stroke:green;stroke-width:4\"/><line x1=\"191.913\" y1=\"414.68\" x2=\"191.913\" y2=\"404.68\" stroke-linecap=\"round\" style=\"stroke:green;stroke-width:4\"/><line x1=\"191.913\" y1=\"404.68\" x2=\"198.383\" y2=\"380.532\" stroke-linecap=\"round\" style=\"stroke:green;stroke-width:4\"/><line x1=\"198.383\" y1=\"380.532\" x2=\"218.383\" y2=\"345.891\" stroke-linecap=\"round\" style=\"stroke:green;stroke-width:4\"/><line x1=\"218.383\" y1=\"345.891\" x2=\"257.274\" y2=\"307.0\" stroke-linecap=\"round\" style=\"stroke:green;stroke-width:4\"/><line x1=\"257.274\" y1=\"307.0\" x2=\"317.896\" y2=\"272.0\" stroke-linecap=\"round\" style=\"stroke:green;stroke-width:4\"/><line x1=\"317.896\" y1=\"272.0\" x2=\"400.0\" y2=\"250.0\" stroke-linecap=\"round\" style=\"stroke:green;stroke-width:4\"/><line x1=\"400.0\" y1=\"250.0\" x2=\"500.0\" y2=\"250.0\" stroke-linecap=\"round\" style=\"stroke:green;stroke-width:4\"/>\n",
       "        <g visibility=visible transform=\"rotate(270,500.0,250.0) translate(482.0, 232.0)\">\n",
       "<path style=\" stroke:none;fill-rule:evenodd;fill:green;fill-opacity:1;\" d=\"M 18.214844 0.632812 C 16.109375 1.800781 15.011719 4.074219 15.074219 7.132812 L 15.085938 7.652344 L 14.785156 7.496094 C 13.476562 6.824219 11.957031 6.671875 10.40625 7.066406 C 8.46875 7.550781 6.515625 9.15625 4.394531 11.992188 C 3.0625 13.777344 2.679688 14.636719 3.042969 15.027344 L 3.15625 15.152344 L 3.519531 15.152344 C 4.238281 15.152344 4.828125 14.886719 8.1875 13.039062 C 9.386719 12.378906 10.371094 11.839844 10.378906 11.839844 C 10.386719 11.839844 10.355469 11.929688 10.304688 12.035156 C 9.832031 13.09375 9.257812 14.820312 8.96875 16.078125 C 7.914062 20.652344 8.617188 24.53125 11.070312 27.660156 C 11.351562 28.015625 11.363281 27.914062 10.972656 28.382812 C 8.925781 30.84375 7.945312 33.28125 8.238281 35.1875 C 8.289062 35.527344 8.28125 35.523438 8.917969 35.523438 C 10.941406 35.523438 13.074219 34.207031 15.136719 31.6875 C 15.359375 31.417969 15.328125 31.425781 15.5625 31.574219 C 16.292969 32.042969 18.023438 32.964844 18.175781 32.964844 C 18.335938 32.964844 19.941406 32.210938 20.828125 31.71875 C 20.996094 31.625 21.136719 31.554688 21.136719 31.558594 C 21.203125 31.664062 21.898438 32.414062 22.222656 32.730469 C 23.835938 34.300781 25.5625 35.132812 27.582031 35.300781 C 27.90625 35.328125 27.9375 35.308594 28.007812 34.984375 C 28.382812 33.242188 27.625 30.925781 25.863281 28.425781 L 25.542969 27.96875 L 25.699219 27.785156 C 28.945312 23.960938 29.132812 18.699219 26.257812 11.96875 L 26.207031 11.84375 L 27.945312 12.703125 C 31.53125 14.476562 32.316406 14.800781 33.03125 14.800781 C 33.976562 14.800781 33.78125 13.9375 32.472656 12.292969 C 28.519531 7.355469 25.394531 5.925781 21.921875 7.472656 L 21.558594 7.636719 L 21.578125 7.542969 C 21.699219 6.992188 21.761719 5.742188 21.699219 5.164062 C 21.496094 3.296875 20.664062 1.964844 19.003906 0.855469 C 18.480469 0.503906 18.457031 0.5 18.214844 0.632812\"/>\n",
       "</g>\n",
       "      </svg>\n",
       "    "
      ],
      "text/plain": [
       "<IPython.core.display.HTML object>"
      ]
     },
     "metadata": {},
     "output_type": "display_data"
    }
   ],
   "source": [
    "from ColabTurtle import Turtle\n",
    "\n",
    "\n",
    "def draw_tree(branch_len, t):\n",
    "    \"\"\"\n",
    "    Figure out the tree pattern, then display the recursion tree.\n",
    "    You may have to play/tune with angles/lengths to draw a pretty tree.\n",
    "\n",
    "    :param branch_len: Int -- Length of this branch. Should reduce every recursion. Starting length is 100.\n",
    "    :param t: turtle.Turtle -- Instance of turtle module. We can call turtle functions on this parameter.\n",
    "\n",
    "    :return: Nothing to return\n",
    "    \"\"\"\n",
    "    # Please write your code here.\n",
    "    if branch_len<=5:\n",
    "        return\n",
    "    t.forward(branch_len)\n",
    "    t.right(15)\n",
    "    draw_tree(branch_len-15,t)\n",
    "    t.left(30)\n",
    "    draw_tree(branch_len-15,t)\n",
    "    t.right(15)\n",
    "    t.backward(branch_len)\n",
    "\n",
    "def main():\n",
    "    Turtle.initializeTurtle(initial_speed=5)\n",
    "    Turtle.left(90)\n",
    "    Turtle.backward(100)\n",
    "    Turtle.color(\"green\")\n",
    "    draw_tree(100, Turtle)\n",
    "\n",
    "\n",
    "if __name__ == \"__main__\":\n",
    "    main()"
   ]
  }
 ],
 "metadata": {
  "colab": {
   "provenance": []
  },
  "kernelspec": {
   "display_name": "Python 3",
   "language": "python",
   "name": "python3"
  },
  "language_info": {
   "codemirror_mode": {
    "name": "ipython",
    "version": 3
   },
   "file_extension": ".py",
   "mimetype": "text/x-python",
   "name": "python",
   "nbconvert_exporter": "python",
   "pygments_lexer": "ipython3",
   "version": "3.11.5"
  }
 },
 "nbformat": 4,
 "nbformat_minor": 0
}
